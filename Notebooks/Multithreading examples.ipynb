{
 "cells": [
  {
   "cell_type": "code",
   "execution_count": 1,
   "metadata": {},
   "outputs": [
    {
     "name": "stdout",
     "output_type": "stream",
     "text": [
      "Multithreading with maximum 4 threads\n",
      "worker run called\n"
     ]
    },
    {
     "data": {
      "text/plain": [
       "0"
      ]
     },
     "execution_count": 1,
     "metadata": {},
     "output_type": "execute_result"
    }
   ],
   "source": [
    "from PyQt5.QtGui import *\n",
    "from PyQt5.QtWidgets import *\n",
    "from PyQt5.QtCore import *\n",
    "\n",
    "Signal = pyqtSignal\n",
    "Slot   = pyqtSlot\n",
    "\n",
    "import time\n",
    "import time\n",
    "import traceback, sys\n",
    "\n",
    "\n",
    "class WorkerSignals(QObject):\n",
    "    '''\n",
    "    Defines the signals available from a running worker thread.\n",
    "\n",
    "    Supported signals are:\n",
    "\n",
    "    finished\n",
    "        No data\n",
    "\n",
    "    error\n",
    "        `tuple` (exctype, value, traceback.format_exc() )\n",
    "\n",
    "    result\n",
    "        `object` data returned from processing, anything\n",
    "\n",
    "    progress\n",
    "        `int` indicating % progress\n",
    "\n",
    "    '''\n",
    "    finished = Signal()\n",
    "    error = Signal(tuple)\n",
    "    result = Signal(object)\n",
    "    progress = Signal(int)\n",
    "\n",
    "\n",
    "\n",
    "\n",
    "class Worker(QRunnable):\n",
    "    '''\n",
    "    Worker thread\n",
    "\n",
    "    Inherits from QRunnable to handler worker thread setup, signals and wrap-up.\n",
    "\n",
    "    :param callback: The function callback to run on this worker thread. Supplied args and\n",
    "                     kwargs will be passed through to the runner.\n",
    "    :type callback: function\n",
    "    :param args: Arguments to pass to the callback function\n",
    "    :param kwargs: Keywords to pass to the callback function\n",
    "\n",
    "    '''\n",
    "\n",
    "    def __init__(self, fn, *args, **kwargs):\n",
    "        super(Worker, self).__init__()\n",
    "\n",
    "        # Store constructor arguments (re-used for processing)\n",
    "        self.fn = fn\n",
    "        self.args = args\n",
    "        self.kwargs = kwargs\n",
    "        self.signals = WorkerSignals()\n",
    "\n",
    "        # Add the callback to our kwargs\n",
    "        self.kwargs['progress_callback'] = self.signals.progress\n",
    "\n",
    "    @Slot()\n",
    "    def run(self):\n",
    "        '''\n",
    "        Initialise the runner function with passed args, kwargs.\n",
    "        '''\n",
    "        print('worker run called')\n",
    "        # Retrieve args/kwargs here; and fire processing using them\n",
    "        try:\n",
    "            result = self.fn(*self.args, **self.kwargs)\n",
    "        except:\n",
    "            traceback.print_exc()\n",
    "            exctype, value = sys.exc_info()[:2]\n",
    "            self.signals.error.emit((exctype, value, traceback.format_exc()))\n",
    "        else:\n",
    "            self.signals.result.emit(result)  # Return the result of the processing\n",
    "        finally:\n",
    "            self.signals.finished.emit()  # Done\n",
    "\n",
    "\n",
    "\n",
    "class MainWindow(QMainWindow):\n",
    "\n",
    "\n",
    "    def __init__(self, *args, **kwargs):\n",
    "        super(MainWindow, self).__init__(*args, **kwargs)\n",
    "\n",
    "        self.counter = 0\n",
    "\n",
    "        layout = QVBoxLayout()\n",
    "\n",
    "        self.l = QLabel(\"Start\")\n",
    "        b = QPushButton(\"DANGER!\")\n",
    "        b.pressed.connect(self.oh_no)\n",
    "\n",
    "        layout.addWidget(self.l)\n",
    "        layout.addWidget(b)\n",
    "\n",
    "        w = QWidget()\n",
    "        w.setLayout(layout)\n",
    "\n",
    "        self.setCentralWidget(w)\n",
    "\n",
    "        self.show()\n",
    "\n",
    "        self.threadpool = QThreadPool()\n",
    "        print(\"Multithreading with maximum %d threads\" % self.threadpool.maxThreadCount())\n",
    "\n",
    "        self.timer = QTimer()\n",
    "        self.timer.setInterval(1000)\n",
    "        self.timer.timeout.connect(self.recurring_timer)\n",
    "        self.timer.start()\n",
    "\n",
    "    def progress_fn(self, n):\n",
    "        print(\"%d%% done\" % n)\n",
    "\n",
    "    def execute_this_fn(self, progress_callback):\n",
    "        for n in range(0, 5):\n",
    "            time.sleep(1)\n",
    "            progress_callback.emit(n*100/4)\n",
    "\n",
    "        return \"Done.\"\n",
    "\n",
    "    def print_output(self, s):\n",
    "        print(s)\n",
    "\n",
    "    def thread_complete(self):\n",
    "        print(\"THREAD COMPLETE!\")\n",
    "\n",
    "    def oh_no(self):\n",
    "        # Pass the function to execute\n",
    "        worker = Worker(self.execute_this_fn) # Any other args, kwargs are passed to the run function\n",
    "        worker.signals.result.connect(self.print_output)\n",
    "        worker.signals.finished.connect(self.thread_complete)\n",
    "        worker.signals.progress.connect(self.progress_fn)\n",
    "\n",
    "        # Execute\n",
    "        self.threadpool.start(worker)\n",
    "\n",
    "\n",
    "    def recurring_timer(self):\n",
    "        self.counter +=1\n",
    "        self.l.setText(\"Counter: %d\" % self.counter)\n",
    "\n",
    "\n",
    "app = QApplication([])\n",
    "window = MainWindow()\n",
    "app.exec()"
   ]
  },
  {
   "cell_type": "code",
   "execution_count": 13,
   "metadata": {},
   "outputs": [],
   "source": [
    "import inspect"
   ]
  },
  {
   "cell_type": "code",
   "execution_count": 17,
   "metadata": {},
   "outputs": [],
   "source": [
    "def f(arg1,kwarg1 = 1,**kwargs):\n",
    "    kwargs['test'] = 1\n",
    "    print(kwargs)"
   ]
  },
  {
   "cell_type": "code",
   "execution_count": 14,
   "metadata": {},
   "outputs": [
    {
     "name": "stdout",
     "output_type": "stream",
     "text": [
      "{'test': 1, 'kwarg2': 0}\n"
     ]
    }
   ],
   "source": [
    "f(0,kwarg1=2,kwarg2=0)"
   ]
  },
  {
   "cell_type": "code",
   "execution_count": 21,
   "metadata": {},
   "outputs": [],
   "source": [
    "s = inspect.signature(f)"
   ]
  },
  {
   "cell_type": "code",
   "execution_count": 26,
   "metadata": {},
   "outputs": [
    {
     "data": {
      "text/plain": [
       "True"
      ]
     },
     "execution_count": 26,
     "metadata": {},
     "output_type": "execute_result"
    }
   ],
   "source": [
    "'kwarg1' in s.parameters.keys()"
   ]
  },
  {
   "cell_type": "code",
   "execution_count": 1,
   "metadata": {},
   "outputs": [
    {
     "data": {
      "text/plain": [
       "0"
      ]
     },
     "execution_count": 1,
     "metadata": {},
     "output_type": "execute_result"
    }
   ],
   "source": [
    "from PyQt5.QtWidgets import (\n",
    "    QWidget, QApplication, QProgressBar, QMainWindow,\n",
    "    QHBoxLayout, QPushButton\n",
    ")\n",
    "\n",
    "from PyQt5.QtCore import (\n",
    "    Qt, QObject, pyqtSignal, pyqtSlot, QRunnable, QThreadPool\n",
    ")\n",
    "import time\n",
    "\n",
    "\n",
    "class WorkerSignals(QObject):\n",
    "    progress = pyqtSignal(int)\n",
    "\n",
    "\n",
    "class JobRunner(QRunnable):\n",
    "    \n",
    "    signals = WorkerSignals()\n",
    "    \n",
    "    def __init__(self):\n",
    "        super().__init__()\n",
    "        \n",
    "        self.is_paused = False\n",
    "        self.is_killed = False\n",
    "        \n",
    "    @pyqtSlot()\n",
    "    def run(self):\n",
    "        for n in range(100):\n",
    "            self.signals.progress.emit(n + 1)\n",
    "            time.sleep(0.1)\n",
    "            \n",
    "            while self.is_paused:\n",
    "                time.sleep(0)\n",
    "                \n",
    "            if self.is_killed:\n",
    "                break\n",
    "                \n",
    "    def pause(self):\n",
    "        self.is_paused = True\n",
    "        \n",
    "    def resume(self):\n",
    "        self.is_paused = False\n",
    "        \n",
    "    def kill(self):\n",
    "        self.is_killed = True\n",
    "\n",
    "\n",
    "class MainWindow(QMainWindow):\n",
    "\n",
    "    def __init__(self):\n",
    "        super().__init__()\n",
    "        \n",
    "        # Some buttons\n",
    "        w = QWidget()\n",
    "        l = QHBoxLayout()\n",
    "        w.setLayout(l)\n",
    "        \n",
    "        btn_stop = QPushButton(\"Stop\")\n",
    "        btn_pause = QPushButton(\"Pause\")\n",
    "        btn_resume = QPushButton(\"Resume\")\n",
    "        \n",
    "        l.addWidget(btn_stop)\n",
    "        l.addWidget(btn_pause)\n",
    "        l.addWidget(btn_resume)\n",
    "        \n",
    "        self.setCentralWidget(w)\n",
    "       \n",
    "        # Create a statusbar.\n",
    "        self.status = self.statusBar()\n",
    "        self.progress = QProgressBar()\n",
    "        self.status.addPermanentWidget(self.progress)\n",
    "        \n",
    "        # Thread runner\n",
    "        self.threadpool = QThreadPool()\n",
    "        \n",
    "        # Create a runner\n",
    "        self.runner = JobRunner()\n",
    "        self.runner.signals.progress.connect(self.update_progress)\n",
    "        self.threadpool.start(self.runner)\n",
    "\n",
    "        btn_stop.pressed.connect(self.runner.kill)\n",
    "        btn_pause.pressed.connect(self.runner.pause)\n",
    "        btn_resume.pressed.connect(self.runner.resume)\n",
    "        \n",
    "        self.show()\n",
    "    \n",
    "    def update_progress(self, n):\n",
    "        self.progress.setValue(n)\n",
    "        \n",
    "app = QApplication([])\n",
    "w = MainWindow()\n",
    "app.exec()\n"
   ]
  },
  {
   "cell_type": "code",
   "execution_count": null,
   "metadata": {},
   "outputs": [],
   "source": []
  }
 ],
 "metadata": {
  "kernelspec": {
   "display_name": "Python [conda env:pyecog2_env]",
   "language": "python",
   "name": "conda-env-pyecog2_env-py"
  },
  "language_info": {
   "codemirror_mode": {
    "name": "ipython",
    "version": 3
   },
   "file_extension": ".py",
   "mimetype": "text/x-python",
   "name": "python",
   "nbconvert_exporter": "python",
   "pygments_lexer": "ipython3",
   "version": "3.5.6"
  }
 },
 "nbformat": 4,
 "nbformat_minor": 2
}
