{
 "cells": [
  {
   "cell_type": "code",
   "execution_count": 1,
   "metadata": {
    "collapsed": true
   },
   "outputs": [],
   "source": [
    "import sys\n",
    "sys.path.append('../../pyecog2')"
   ]
  },
  {
   "cell_type": "code",
   "execution_count": 2,
   "metadata": {
    "collapsed": true
   },
   "outputs": [],
   "source": [
    "from scipy.signal import stft"
   ]
  },
  {
   "cell_type": "code",
   "execution_count": 4,
   "metadata": {
    "collapsed": true
   },
   "outputs": [],
   "source": [
    "import numba"
   ]
  },
  {
   "cell_type": "code",
   "execution_count": 2,
   "metadata": {
    "collapsed": true
   },
   "outputs": [],
   "source": [
    "import json\n",
    "from PyQt5 import QtCore\n",
    "from PyQt5.QtCore import QObject\n",
    "import numpy as np\n",
    "from collections import OrderedDict\n",
    "from h5loader import H5File\n",
    "import glob, os\n",
    "from datetime import datetime\n",
    "from annotations_module import AnnotationPage\n",
    "\n",
    "def create_metafile_from_h5(file):\n",
    "    assert file.endswith('.h5')\n",
    "    h5_file = H5File(file)\n",
    "    fs_dict = eval(h5_file.attributes['fs_dict'])\n",
    "    fs = fs_dict[int(h5_file.attributes['t_ids'][0])]\n",
    "    for tid in h5_file.attributes['t_ids']:\n",
    "        assert fs == int(fs_dict[tid])  # Check all tids have the same sampling rate\n",
    "    metadata = OrderedDict(fs=fs,\n",
    "                           no_channels=len(h5_file.attributes['t_ids']),\n",
    "                           data_format='h5',\n",
    "                           volts_per_bit=0,\n",
    "                           transmitter_id=str(h5_file.attributes['t_ids']),\n",
    "                           start_timestamp_unix=int(file.split('/')[-1].split('_')[0][1:]),\n",
    "                           duration=3600,  # assume all h5 files have 1hr duration\n",
    "                           channel_labels=[str(label) for label in h5_file.attributes['t_ids']],\n",
    "                           experiment_metadata_str='')\n",
    "    metafile = file[:-2] + 'meta'\n",
    "    with open(metafile, 'w') as json_file:\n",
    "        json.dump(metadata, json_file, indent=2, sort_keys=True)\n",
    "\n",
    "\n",
    "class Animal():\n",
    "    def __init__(self, id=None, eeg_folder=None, video_folder=None, dict={}):\n",
    "        if dict != {}:\n",
    "            self.__dict__ = dict\n",
    "            self.annotations = AnnotationPage(dict = dict['annotations'])\n",
    "            return\n",
    "\n",
    "        if eeg_folder is not None:\n",
    "            for file in glob.glob(eeg_folder + '/*.h5'):\n",
    "                if os.path.isfile(file[:-2] + 'meta'):\n",
    "                    print(file[:-2] + 'meta already exists')\n",
    "                    continue\n",
    "                create_metafile_from_h5(file)\n",
    "            self.eeg_files = glob.glob(eeg_folder + '/*.meta')\n",
    "            self.annotations = AnnotationPage()\n",
    "            annotation_files = glob.glob(eeg_folder + '/*.anno')\n",
    "            if annotation_files:\n",
    "                self.annotations.import_from_json(annotation_files[0])\n",
    "            self.eeg_init_time = [json.load(file)['start_timestamp_unix'] for file in map(open, self.eeg_files)]\n",
    "            self.eeg_duration = [json.load(file)['duration'] for file in map(open, self.eeg_files)]\n",
    "        else:\n",
    "            self.eeg_files = []\n",
    "            self.annotations = AnnotationPage()\n",
    "            self.eeg_init_time = []\n",
    "            self.eeg_duration = []\n",
    "\n",
    "        if video_folder is not None:\n",
    "            self.video_files = glob.glob(video_folder + '/*.mp4')\n",
    "            self.video_init_time = [\n",
    "                datetime(*map(int, [fname[-18:-14], fname[-14:-12], fname[-12:-10], fname[-10:-8], fname[-8:-6],\n",
    "                                    fname[-6:-4]])).timestamp()\n",
    "                for fname in self.video_files]\n",
    "            self.video_duration = [15 * 60 for file in\n",
    "                                   self.video_files]  # this should be replaced in the future to account flexible video durations\n",
    "        else:\n",
    "            self.video_files = []\n",
    "            self.video_init_time = []\n",
    "            self.video_duration = []\n",
    "\n",
    "        if id is None and self.eeg_files:\n",
    "            metadata = json.load(open(self.eeg_files[0]))\n",
    "            self.id = metadata['transmitter_id']\n",
    "        else:\n",
    "            self.id = id\n",
    "\n",
    "    def dict(self):\n",
    "        dict = self.__dict__.copy()\n",
    "        dict['annotations'] = self.annotations.dict()\n",
    "        return dict\n",
    "\n",
    "class file_buffer():  # Consider translating this to cython\n",
    "    def __init__(self):\n",
    "        self.files = []\n",
    "        self.range = [np.Inf, -np.Inf]\n",
    "        self.data = []\n",
    "        self.data_ranges = []\n",
    "        self.metadata = []\n",
    "\n",
    "    def add_file_to_buffer(self, fname):\n",
    "        if fname in self.files:  # skip if file is already buffered\n",
    "            return\n",
    "        else:\n",
    "            self.files.append(fname)\n",
    "\n",
    "        with open(fname, 'r') as json_file:\n",
    "            metadata = json.load(json_file)\n",
    "        self.metadata.append(metadata)\n",
    "\n",
    "        if metadata['data_format'] == 'h5':\n",
    "            h5file = H5File(fname[:-4] + 'h5')\n",
    "            channels = []\n",
    "            for tid in h5file.attributes['t_ids']:\n",
    "                channels.append(h5file[tid]['data'])\n",
    "            arr = np.vstack(channels).T\n",
    "            self.data.append(arr)\n",
    "\n",
    "        else:  # it is a bin file and can be mememaped\n",
    "            m = np.memmap(fname[:4] + 'bin', mode='r+', shape=(-1, metadata['no_channels']))\n",
    "            self.data.append(m)\n",
    "\n",
    "        trange = [metadata['start_timestamp_unix'], metadata['start_timestamp_unix'] + metadata['duration']]\n",
    "        self.data_ranges.append(trange)\n",
    "\n",
    "        if self.range[0] > trange[0]:  # buffering earlier file\n",
    "            self.range[0] = trange[0]\n",
    "            if len(self.data) > 3:  # buffer 3 files - consider having this as a variable...\n",
    "                i = max(range(len(self.data)),\n",
    "                        key=lambda j: self.data_ranges[j][0])  # get the index of the latest starting buffered file\n",
    "                del(self.files[i])\n",
    "                del(self.data[i])\n",
    "                del(self.data_ranges[i])\n",
    "                del(self.metadata[i])\n",
    "                self.range = [min([r[0] for r in self.data_ranges]), max([r[1] for r in self.data_ranges])]\n",
    "\n",
    "        if self.range[1] < trange[1]:  # buffering later file\n",
    "            self.range[1] = trange[1]\n",
    "            if len(self.data) > 3:  # buffer 3 files - consider having this as a variable...\n",
    "                i = min(range(len(self.data)),\n",
    "                        key=lambda j: self.data_ranges[j][0])  # get the index of the earliest starting buffered file\n",
    "                del(self.files[i])\n",
    "                del(self.data[i])\n",
    "                del(self.data_ranges[i])\n",
    "                del(self.metadata[i])\n",
    "                self.range = [min([r[0] for r in self.data_ranges]), max([r[1] for r in self.data_ranges])]\n",
    "\n",
    "    def get_data_from_range(self, trange, channel=None, n_envelope=None):\n",
    "        def clip(x, a, b):\n",
    "            return min(max(int(x), a), b)\n",
    "\n",
    "        #  Find sample ranges from data_ranges:\n",
    "        sample_ranges = []\n",
    "        print('range:',self.range)\n",
    "        print('data ranges:',self.data_ranges)\n",
    "        for i, ranges in enumerate(self.data_ranges):\n",
    "            print('metadata',i,':',self.metadata[i])\n",
    "            fs = self.metadata[i]['fs']\n",
    "            print(((trange[0] - ranges[0]) * fs, 0, len(self.data[i])))\n",
    "            sample_ranges.append([clip((trange[0] - ranges[0]) * fs, 0, len(self.data[i])),\n",
    "                                  clip((trange[1] - ranges[0]) * fs, 0, len(self.data[i]))])\n",
    "\n",
    "        total_sample_range = max(sum([s[1] - s[0] for s in sample_ranges]),1)\n",
    "        if n_envelope is None:\n",
    "            n_envelope = total_sample_range\n",
    "        file_envlopes = [int(n_envelope * (s[1] - s[0]) / total_sample_range) +1  for s in\n",
    "                             sample_ranges]  # distribute samples between files\n",
    "\n",
    "        enveloped_data = []\n",
    "        enveloped_time = []\n",
    "        # print('sample ranges: ', sample_ranges)\n",
    "        # print('data ranges: ', self.data_ranges)\n",
    "        # print('data: ', len(self.data))\n",
    "        for i, data in enumerate(self.data):\n",
    "            start = sample_ranges[i][0]\n",
    "            stop = sample_ranges[i][1]\n",
    "            fs = self.metadata[i]['fs']\n",
    "\n",
    "            # Decide by how much we should downsample\n",
    "            ds = int((stop - start) / file_envlopes[i]) + 1\n",
    "            if ds == 1:\n",
    "                # Small enough to display with no intervention.\n",
    "                if channel is None:\n",
    "                    enveloped_data.append(data[start:stop, :])\n",
    "                else:\n",
    "                    enveloped_data.append(data[start:stop, channel].reshape(-1,1))\n",
    "\n",
    "            else:\n",
    "                # Here convert data into a down-sampled array suitable for visualizing.\n",
    "                # Must do this piecewise to limit memory usage.\n",
    "                samples = (1 + (stop - start) // ds)\n",
    "                # print('grabbing',samples,'samples from buffred file',i)\n",
    "                visible_data = np.zeros((samples * 2,1), dtype=data.dtype)\n",
    "                sourcePtr = start\n",
    "                targetPtr = 0\n",
    "                try:\n",
    "                    # read data in chunks of ~1M samples\n",
    "                    chunkSize = int((1e6 // ds) * ds)\n",
    "                    while sourcePtr < stop - 1:\n",
    "                        chunk_data = data[sourcePtr:min(stop, sourcePtr + chunkSize), channel]\n",
    "                        sourcePtr += chunkSize\n",
    "                        # reshape chunk to be integer multiple of ds\n",
    "                        chunk_data = chunk_data[:(len(chunk_data) // ds) * ds].reshape(len(chunk_data) // ds, ds)\n",
    "                        mx_inds = np.argmax(chunk_data, axis=1)\n",
    "                        mi_inds = np.argmin(chunk_data, axis=1)\n",
    "                        row_inds = np.arange(chunk_data.shape[0])\n",
    "                        chunkMax_x = chunk_data[row_inds, mx_inds].reshape(len(chunk_data),1)\n",
    "                        chunkMin_x = chunk_data[row_inds, mi_inds].reshape(len(chunk_data),1)\n",
    "                        visible_data[targetPtr:targetPtr + chunk_data.shape[0] * 2:2] = chunkMin_x\n",
    "                        visible_data[1 + targetPtr:1 + targetPtr + chunk_data.shape[0] * 2:2] = chunkMax_x\n",
    "                        targetPtr += chunk_data.shape[0] * 2\n",
    "\n",
    "                    enveloped_data.append(visible_data[:targetPtr,:].reshape((-1,1)))\n",
    "\n",
    "                except:\n",
    "                    print('ERROR in downsampling')\n",
    "                    raise\n",
    "                    # throw_error()\n",
    "                    # return 0\n",
    "\n",
    "            enveloped_time.append(np.linspace(start/fs + self.data_ranges[i][0], stop/fs + self.data_ranges[i][0],\n",
    "                                               len(enveloped_data[-1])).reshape(-1,1))\n",
    "            if len(enveloped_time[-1])==0:\n",
    "                del(enveloped_time[-1])\n",
    "                del(enveloped_data[-1])\n",
    "            # print('env data shapes')\n",
    "            # print([data.shape for data in enveloped_data])\n",
    "            # print([data.shape for data in enveloped_time])\n",
    "        # sort vectors with enveloped_time:\n",
    "        start_times = [(t[0], enveloped_data[i], t) for (i, t) in enumerate(enveloped_time)]\n",
    "        start_times.sort()\n",
    "        enveloped_data = [d[1] for d in start_times]\n",
    "        enveloped_time = [d[2] for d in start_times]\n",
    "\n",
    "        print('env data shapes')\n",
    "        print([data.shape for data in enveloped_data])\n",
    "        print([data.shape for data in enveloped_time])\n",
    "        if len(enveloped_data)>0:\n",
    "            data = np.vstack(enveloped_data)\n",
    "            time = np.vstack(enveloped_time)\n",
    "        else:\n",
    "            data = np.array([0,0])\n",
    "            time = np.array(trange)\n",
    "        return data, time\n",
    "\n",
    "class Project():\n",
    "    def __init__(self, main_model, eeg_data_folder=None, video_data_folder=None, title='New Project', project_file='',dict=None):\n",
    "        if dict is not None:\n",
    "            self.__dict__ = dict\n",
    "            self.animal_list = [Animal(dict = animal) for animal in dict['animal_list']]\n",
    "            self.current_animal = Animal(dict = dict['current_animal'])\n",
    "            self.main_model = main_model\n",
    "            return\n",
    "        self.main_model = main_model\n",
    "        self.animal_list = []\n",
    "        self.eeg_root_folder = eeg_data_folder\n",
    "        self.video_root_folder = video_data_folder\n",
    "        self.project_file = project_file\n",
    "        self.title = title\n",
    "        self.current_animal = Animal()  # start with empty animal\n",
    "        self.file_buffer = file_buffer()\n",
    "\n",
    "    def set_current_animal(self, animal): # copy alterations made to annotations\n",
    "        self.current_animal.annotations.copy_from(self.main_model.annotations)\n",
    "        self.main_model.annotations.copy_from(animal.annotations)\n",
    "        self.current_animal = animal\n",
    "\n",
    "    def save_to_json(self, fname):\n",
    "        try:\n",
    "            self.current_animal.annotations.copy_from(self.main_model.annotations) # save alterations made to the current animal annotations\n",
    "        except:\n",
    "            print('no main model defined')\n",
    "        dict = self.__dict__.copy()\n",
    "        del(dict['main_model'])\n",
    "        dict['animal_list'] = [animal.dict() for animal in self.animal_list]  # make animals into dicts\n",
    "        dict['current_animal'] = Animal().dict() # self.current_animal.dict() # Otherwise when loading the current animal would not be in the animal_list\n",
    "        dict['file_buffer'] = None\n",
    "        print(dict)\n",
    "        json.dump(dict, open(fname, 'w'), indent=4)\n",
    "\n",
    "    def load_from_json(self, fname):\n",
    "        dict = json.load(open(fname))\n",
    "        dict['animal_list'] = [Animal(dict=animal) for animal in dict['animal_list']]  # make dicts into animals\n",
    "        dict['animal_list'].sort(key=lambda animal: animal.id)\n",
    "        dict['current_animal'] = Animal(dict = dict['current_animal'])\n",
    "        dict['file_buffer'] = file_buffer()\n",
    "        main_model = self.main_model\n",
    "        self.__dict__ = dict\n",
    "        self.main_model = main_model\n",
    "\n",
    "    def get_animal(self, animal_id):\n",
    "        for animal in self.animal_list:\n",
    "            if animal.id == animal_id:\n",
    "                return animal\n",
    "        return None  # return if animal not found\n",
    "\n",
    "    def get_data_from_range(self, trange, channel=None, animal=None, n_envelope=None):\n",
    "        '''\n",
    "        :param trange: list of length 2 - [init_time, end_time] for the data to get\n",
    "        :param channel: channel from wich to grab the data\n",
    "        :param animal: animal object from which to get the data\n",
    "        :param n_envelope: int - compute envelope in n_envelope number of points, if none, return all data\n",
    "        :return:\n",
    "        '''\n",
    "        print('Project() get_data_from_range called for chanbel',channel,'; time range:', trange, ', duration:',trange[1]-trange[0])\n",
    "        if (animal is not None) and (animal is not self.current_animal):  # reset file buffer if animal has changed\n",
    "            print('Clearing File Buffer')\n",
    "            self.current_animal = animal\n",
    "            self.file_buffer = file_buffer()\n",
    "\n",
    "        # First check if data is already buffered, most of the time this will be the case:\n",
    "        if trange[0] >= self.file_buffer.range[0] and trange[1] <= self.file_buffer.range[1]:\n",
    "            print('Data already in buffer')\n",
    "            return self.file_buffer.get_data_from_range(trange,channel,n_envelope)\n",
    "\n",
    "        # Now clear buffer if range is not contiguous to previous range\n",
    "        if trange[1] <= self.file_buffer.range[0] or trange[0] >= self.file_buffer.range[1]:\n",
    "            print('Non-contiguous data: restarting buffer...')\n",
    "            self.file_buffer = file_buffer()\n",
    "\n",
    "        for i, file in enumerate(self.current_animal.eeg_files):\n",
    "            arange = [self.current_animal.eeg_init_time[i], self.current_animal.eeg_init_time[i] + self.current_animal.eeg_duration[i]]\n",
    "            if (arange[0] <= trange[0] <= arange[1]) or (arange[0] <= trange[1] <= arange[1]) or\\\n",
    "                    (trange[0] <= arange[0] <= trange[1]) or (trange[0] <= arange[1] <= trange[1]):\n",
    "                print('Adding file to buffer: ', file)\n",
    "                self.file_buffer.add_file_to_buffer(file)\n",
    "        print('files in buffer: ' , self.file_buffer.files)\n",
    "        return self.file_buffer.get_data_from_range(trange, channel, n_envelope)\n",
    "\n"
   ]
  },
  {
   "cell_type": "code",
   "execution_count": 38,
   "metadata": {},
   "outputs": [
    {
     "name": "stdout",
     "output_type": "stream",
     "text": [
      "/home/mfpleite/Shared/ele_data/h5_119/M1569833359_2019-09-30-09-49-19_tids_[119].meta already exists\n",
      "/home/mfpleite/Shared/ele_data/h5_119/M1569844159_2019-09-30-12-49-19_tids_[119].meta already exists\n",
      "/home/mfpleite/Shared/ele_data/h5_119/M1569815359_2019-09-30-04-49-19_tids_[119].meta already exists\n",
      "/home/mfpleite/Shared/ele_data/h5_119/M1569880159_2019-09-30-22-49-19_tids_[119].meta already exists\n",
      "/home/mfpleite/Shared/ele_data/h5_119/M1569811759_2019-09-30-03-49-19_tids_[119].meta already exists\n",
      "/home/mfpleite/Shared/ele_data/h5_119/M1569822559_2019-09-30-06-49-19_tids_[119].meta already exists\n",
      "/home/mfpleite/Shared/ele_data/h5_119/M1569858559_2019-09-30-16-49-19_tids_[119].meta already exists\n",
      "/home/mfpleite/Shared/ele_data/h5_119/M1569872959_2019-09-30-20-49-19_tids_[119].meta already exists\n",
      "/home/mfpleite/Shared/ele_data/h5_119/M1569836959_2019-09-30-10-49-19_tids_[119].meta already exists\n",
      "/home/mfpleite/Shared/ele_data/h5_119/M1569865759_2019-09-30-18-49-19_tids_[119].meta already exists\n",
      "/home/mfpleite/Shared/ele_data/h5_119/M1569808159_2019-09-30-02-49-19_tids_[119].meta already exists\n",
      "/home/mfpleite/Shared/ele_data/h5_119/M1569840559_2019-09-30-11-49-19_tids_[119].meta already exists\n",
      "/home/mfpleite/Shared/ele_data/h5_119/M1569883759_2019-09-30-23-49-19_tids_[119].meta already exists\n",
      "/home/mfpleite/Shared/ele_data/h5_119/M1569818959_2019-09-30-05-49-19_tids_[119].meta already exists\n",
      "/home/mfpleite/Shared/ele_data/h5_119/M1569869359_2019-09-30-19-49-19_tids_[119].meta already exists\n",
      "/home/mfpleite/Shared/ele_data/h5_119/M1569804559_2019-09-30-01-49-19_tids_[119].meta already exists\n",
      "/home/mfpleite/Shared/ele_data/h5_119/M1569826159_2019-09-30-07-49-19_tids_[119].meta already exists\n",
      "/home/mfpleite/Shared/ele_data/h5_119/M1569876559_2019-09-30-21-49-19_tids_[119].meta already exists\n",
      "/home/mfpleite/Shared/ele_data/h5_119/M1569851359_2019-09-30-14-49-19_tids_[119].meta already exists\n",
      "/home/mfpleite/Shared/ele_data/h5_119/M1569862159_2019-09-30-17-49-19_tids_[119].meta already exists\n",
      "/home/mfpleite/Shared/ele_data/h5_119/M1569800959_2019-09-30-00-49-19_tids_[119].meta already exists\n",
      "/home/mfpleite/Shared/ele_data/h5_119/M1569854959_2019-09-30-15-49-19_tids_[119].meta already exists\n",
      "/home/mfpleite/Shared/ele_data/h5_119/M1569847759_2019-09-30-13-49-19_tids_[119].meta already exists\n",
      "/home/mfpleite/Shared/ele_data/h5_119/M1569829759_2019-09-30-08-49-19_tids_[119].meta already exists\n",
      "Annotations: invalid type for annotations list\n"
     ]
    }
   ],
   "source": [
    "a = Animal(id = '119',eeg_folder='/home/mfpleite/Shared/ele_data/h5_119/',video_folder='/home/mfpleite/Shared/ele_data/119/')"
   ]
  },
  {
   "cell_type": "code",
   "execution_count": 39,
   "metadata": {},
   "outputs": [
    {
     "data": {
      "text/plain": [
       "['/home/mfpleite/Shared/ele_data/h5_119/M1569833359_2019-09-30-09-49-19_tids_[119].meta',\n",
       " '/home/mfpleite/Shared/ele_data/h5_119/M1569800959_2019-09-30-00-49-19_tids_[119].meta',\n",
       " '/home/mfpleite/Shared/ele_data/h5_119/M1569836959_2019-09-30-10-49-19_tids_[119].meta',\n",
       " '/home/mfpleite/Shared/ele_data/h5_119/M1569808159_2019-09-30-02-49-19_tids_[119].meta',\n",
       " '/home/mfpleite/Shared/ele_data/h5_119/M1569858559_2019-09-30-16-49-19_tids_[119].meta',\n",
       " '/home/mfpleite/Shared/ele_data/h5_119/M1569851359_2019-09-30-14-49-19_tids_[119].meta',\n",
       " '/home/mfpleite/Shared/ele_data/h5_119/M1569876559_2019-09-30-21-49-19_tids_[119].meta',\n",
       " '/home/mfpleite/Shared/ele_data/h5_119/M1569847759_2019-09-30-13-49-19_tids_[119].meta',\n",
       " '/home/mfpleite/Shared/ele_data/h5_119/M1569818959_2019-09-30-05-49-19_tids_[119].meta',\n",
       " '/home/mfpleite/Shared/ele_data/h5_119/M1569804559_2019-09-30-01-49-19_tids_[119].meta',\n",
       " '/home/mfpleite/Shared/ele_data/h5_119/M1569840559_2019-09-30-11-49-19_tids_[119].meta',\n",
       " '/home/mfpleite/Shared/ele_data/h5_119/M1569811759_2019-09-30-03-49-19_tids_[119].meta',\n",
       " '/home/mfpleite/Shared/ele_data/h5_119/M1569869359_2019-09-30-19-49-19_tids_[119].meta',\n",
       " '/home/mfpleite/Shared/ele_data/h5_119/M1569844159_2019-09-30-12-49-19_tids_[119].meta',\n",
       " '/home/mfpleite/Shared/ele_data/h5_119/M1569854959_2019-09-30-15-49-19_tids_[119].meta',\n",
       " '/home/mfpleite/Shared/ele_data/h5_119/M1569829759_2019-09-30-08-49-19_tids_[119].meta',\n",
       " '/home/mfpleite/Shared/ele_data/h5_119/M1569883759_2019-09-30-23-49-19_tids_[119].meta',\n",
       " '/home/mfpleite/Shared/ele_data/h5_119/M1569815359_2019-09-30-04-49-19_tids_[119].meta',\n",
       " '/home/mfpleite/Shared/ele_data/h5_119/M1569822559_2019-09-30-06-49-19_tids_[119].meta',\n",
       " '/home/mfpleite/Shared/ele_data/h5_119/M1569826159_2019-09-30-07-49-19_tids_[119].meta',\n",
       " '/home/mfpleite/Shared/ele_data/h5_119/M1569880159_2019-09-30-22-49-19_tids_[119].meta',\n",
       " '/home/mfpleite/Shared/ele_data/h5_119/M1569862159_2019-09-30-17-49-19_tids_[119].meta',\n",
       " '/home/mfpleite/Shared/ele_data/h5_119/M1569872959_2019-09-30-20-49-19_tids_[119].meta',\n",
       " '/home/mfpleite/Shared/ele_data/h5_119/M1569865759_2019-09-30-18-49-19_tids_[119].meta']"
      ]
     },
     "execution_count": 39,
     "metadata": {},
     "output_type": "execute_result"
    }
   ],
   "source": [
    "a.eeg_files"
   ]
  },
  {
   "cell_type": "code",
   "execution_count": 40,
   "metadata": {},
   "outputs": [
    {
     "name": "stdout",
     "output_type": "stream",
     "text": [
      "Annotations: invalid type for annotations list\n"
     ]
    }
   ],
   "source": [
    "p = Project([])\n",
    "p.animal_list =[a]"
   ]
  },
  {
   "cell_type": "code",
   "execution_count": 41,
   "metadata": {
    "collapsed": true
   },
   "outputs": [],
   "source": [
    "b = p.get_animal('119')"
   ]
  },
  {
   "cell_type": "code",
   "execution_count": 42,
   "metadata": {},
   "outputs": [
    {
     "data": {
      "text/plain": [
       "annotations_module.AnnotationPage"
      ]
     },
     "execution_count": 42,
     "metadata": {},
     "output_type": "execute_result"
    }
   ],
   "source": [
    "type(b.annotations)"
   ]
  },
  {
   "cell_type": "code",
   "execution_count": 43,
   "metadata": {},
   "outputs": [
    {
     "name": "stdout",
     "output_type": "stream",
     "text": [
      "no main model defined\n",
      "Annotations: invalid type for annotations list\n",
      "{'current_animal': {'video_files': [], 'eeg_files': [], 'annotations': {'annotations_list': [], 'focused_annotation': None, 'labels': [], 'label_color_dict': {}}, 'video_init_time': [], 'video_duration': [], 'eeg_init_time': [], 'id': None, 'eeg_duration': []}, 'project_file': '', 'title': 'New Project', 'animal_list': [{'video_files': ['/home/mfpleite/Shared/ele_data/119/20190923012407.mp4', '/home/mfpleite/Shared/ele_data/119/20190903065523.mp4', '/home/mfpleite/Shared/ele_data/119/20191018103919.mp4', '/home/mfpleite/Shared/ele_data/119/20190930150911.mp4', '/home/mfpleite/Shared/ele_data/119/20191018203919.mp4', '/home/mfpleite/Shared/ele_data/119/20190913040452.mp4', '/home/mfpleite/Shared/ele_data/119/20191019110920.mp4', '/home/mfpleite/Shared/ele_data/119/20190903161023.mp4'], 'eeg_files': ['/home/mfpleite/Shared/ele_data/h5_119/M1569833359_2019-09-30-09-49-19_tids_[119].meta', '/home/mfpleite/Shared/ele_data/h5_119/M1569800959_2019-09-30-00-49-19_tids_[119].meta', '/home/mfpleite/Shared/ele_data/h5_119/M1569836959_2019-09-30-10-49-19_tids_[119].meta', '/home/mfpleite/Shared/ele_data/h5_119/M1569808159_2019-09-30-02-49-19_tids_[119].meta', '/home/mfpleite/Shared/ele_data/h5_119/M1569858559_2019-09-30-16-49-19_tids_[119].meta', '/home/mfpleite/Shared/ele_data/h5_119/M1569851359_2019-09-30-14-49-19_tids_[119].meta', '/home/mfpleite/Shared/ele_data/h5_119/M1569876559_2019-09-30-21-49-19_tids_[119].meta', '/home/mfpleite/Shared/ele_data/h5_119/M1569847759_2019-09-30-13-49-19_tids_[119].meta', '/home/mfpleite/Shared/ele_data/h5_119/M1569818959_2019-09-30-05-49-19_tids_[119].meta', '/home/mfpleite/Shared/ele_data/h5_119/M1569804559_2019-09-30-01-49-19_tids_[119].meta', '/home/mfpleite/Shared/ele_data/h5_119/M1569840559_2019-09-30-11-49-19_tids_[119].meta', '/home/mfpleite/Shared/ele_data/h5_119/M1569811759_2019-09-30-03-49-19_tids_[119].meta', '/home/mfpleite/Shared/ele_data/h5_119/M1569869359_2019-09-30-19-49-19_tids_[119].meta', '/home/mfpleite/Shared/ele_data/h5_119/M1569844159_2019-09-30-12-49-19_tids_[119].meta', '/home/mfpleite/Shared/ele_data/h5_119/M1569854959_2019-09-30-15-49-19_tids_[119].meta', '/home/mfpleite/Shared/ele_data/h5_119/M1569829759_2019-09-30-08-49-19_tids_[119].meta', '/home/mfpleite/Shared/ele_data/h5_119/M1569883759_2019-09-30-23-49-19_tids_[119].meta', '/home/mfpleite/Shared/ele_data/h5_119/M1569815359_2019-09-30-04-49-19_tids_[119].meta', '/home/mfpleite/Shared/ele_data/h5_119/M1569822559_2019-09-30-06-49-19_tids_[119].meta', '/home/mfpleite/Shared/ele_data/h5_119/M1569826159_2019-09-30-07-49-19_tids_[119].meta', '/home/mfpleite/Shared/ele_data/h5_119/M1569880159_2019-09-30-22-49-19_tids_[119].meta', '/home/mfpleite/Shared/ele_data/h5_119/M1569862159_2019-09-30-17-49-19_tids_[119].meta', '/home/mfpleite/Shared/ele_data/h5_119/M1569872959_2019-09-30-20-49-19_tids_[119].meta', '/home/mfpleite/Shared/ele_data/h5_119/M1569865759_2019-09-30-18-49-19_tids_[119].meta'], 'annotations': {'annotations_list': [], 'focused_annotation': None, 'labels': [], 'label_color_dict': {}}, 'video_init_time': [1569194647.0, 1567486523.0, 1571387959.0, 1569848951.0, 1571423959.0, 1568340292.0, 1571476160.0, 1567519823.0], 'video_duration': [900, 900, 900, 900, 900, 900, 900, 900], 'eeg_init_time': [1569833359, 1569800959, 1569836959, 1569808159, 1569858559, 1569851359, 1569876559, 1569847759, 1569818959, 1569804559, 1569840559, 1569811759, 1569869359, 1569844159, 1569854959, 1569829759, 1569883759, 1569815359, 1569822559, 1569826159, 1569880159, 1569862159, 1569872959, 1569865759], 'id': '119', 'eeg_duration': [3600, 3600, 3600, 3600, 3600, 3600, 3600, 3600, 3600, 3600, 3600, 3600, 3600, 3600, 3600, 3600, 3600, 3600, 3600, 3600, 3600, 3600, 3600, 3600]}], 'video_root_folder': None, 'file_buffer': None, 'eeg_root_folder': None}\n"
     ]
    }
   ],
   "source": [
    "p.save_to_json('/home/mfpleite/Shared/ele_data/proj.pyecog')\n"
   ]
  },
  {
   "cell_type": "code",
   "execution_count": 171,
   "metadata": {
    "collapsed": true
   },
   "outputs": [],
   "source": [
    "p.animal_list = []"
   ]
  },
  {
   "cell_type": "code",
   "execution_count": 36,
   "metadata": {},
   "outputs": [
    {
     "ename": "TypeError",
     "evalue": "__dict__ must be set to a dictionary, not a 'NoneType'",
     "output_type": "error",
     "traceback": [
      "\u001b[0;31m---------------------------------------------------------------------------\u001b[0m",
      "\u001b[0;31mTypeError\u001b[0m                                 Traceback (most recent call last)",
      "\u001b[0;32m<ipython-input-36-4718a180ee69>\u001b[0m in \u001b[0;36m<module>\u001b[0;34m()\u001b[0m\n\u001b[0;32m----> 1\u001b[0;31m \u001b[0mp\u001b[0m\u001b[0;34m.\u001b[0m\u001b[0mload_from_json\u001b[0m\u001b[0;34m(\u001b[0m\u001b[0;34m'/home/mfpleite/Shared/ele_data/proj.pyecog'\u001b[0m\u001b[0;34m)\u001b[0m\u001b[0;34m\u001b[0m\u001b[0m\n\u001b[0m",
      "\u001b[0;32m<ipython-input-29-713f54ef0c04>\u001b[0m in \u001b[0;36mload_from_json\u001b[0;34m(self, fname)\u001b[0m\n\u001b[1;32m    272\u001b[0m         \u001b[0mdict\u001b[0m\u001b[0;34m[\u001b[0m\u001b[0;34m'animal_list'\u001b[0m\u001b[0;34m]\u001b[0m \u001b[0;34m=\u001b[0m \u001b[0;34m[\u001b[0m\u001b[0mAnimal\u001b[0m\u001b[0;34m(\u001b[0m\u001b[0mdict\u001b[0m\u001b[0;34m=\u001b[0m\u001b[0manimal\u001b[0m\u001b[0;34m)\u001b[0m \u001b[0;32mfor\u001b[0m \u001b[0manimal\u001b[0m \u001b[0;32min\u001b[0m \u001b[0mdict\u001b[0m\u001b[0;34m[\u001b[0m\u001b[0;34m'animal_list'\u001b[0m\u001b[0;34m]\u001b[0m\u001b[0;34m]\u001b[0m  \u001b[0;31m# make dicts into animals\u001b[0m\u001b[0;34m\u001b[0m\u001b[0m\n\u001b[1;32m    273\u001b[0m         \u001b[0mdict\u001b[0m\u001b[0;34m[\u001b[0m\u001b[0;34m'animal_list'\u001b[0m\u001b[0;34m]\u001b[0m\u001b[0;34m.\u001b[0m\u001b[0msort\u001b[0m\u001b[0;34m(\u001b[0m\u001b[0mkey\u001b[0m\u001b[0;34m=\u001b[0m\u001b[0;32mlambda\u001b[0m \u001b[0manimal\u001b[0m\u001b[0;34m:\u001b[0m \u001b[0manimal\u001b[0m\u001b[0;34m.\u001b[0m\u001b[0mid\u001b[0m\u001b[0;34m)\u001b[0m\u001b[0;34m\u001b[0m\u001b[0m\n\u001b[0;32m--> 274\u001b[0;31m         \u001b[0mdict\u001b[0m\u001b[0;34m[\u001b[0m\u001b[0;34m'current_animal'\u001b[0m\u001b[0;34m]\u001b[0m \u001b[0;34m=\u001b[0m \u001b[0mAnimal\u001b[0m\u001b[0;34m(\u001b[0m\u001b[0mdict\u001b[0m \u001b[0;34m=\u001b[0m \u001b[0mdict\u001b[0m\u001b[0;34m[\u001b[0m\u001b[0;34m'current_animal'\u001b[0m\u001b[0;34m]\u001b[0m\u001b[0;34m)\u001b[0m\u001b[0;34m\u001b[0m\u001b[0m\n\u001b[0m\u001b[1;32m    275\u001b[0m         \u001b[0mdict\u001b[0m\u001b[0;34m[\u001b[0m\u001b[0;34m'file_buffer'\u001b[0m\u001b[0;34m]\u001b[0m \u001b[0;34m=\u001b[0m \u001b[0mfile_buffer\u001b[0m\u001b[0;34m(\u001b[0m\u001b[0;34m)\u001b[0m\u001b[0;34m\u001b[0m\u001b[0m\n\u001b[1;32m    276\u001b[0m         \u001b[0mmain_model\u001b[0m \u001b[0;34m=\u001b[0m \u001b[0mself\u001b[0m\u001b[0;34m.\u001b[0m\u001b[0mmain_model\u001b[0m\u001b[0;34m\u001b[0m\u001b[0m\n",
      "\u001b[0;32m<ipython-input-29-713f54ef0c04>\u001b[0m in \u001b[0;36m__init__\u001b[0;34m(self, id, eeg_folder, video_folder, dict)\u001b[0m\n\u001b[1;32m     33\u001b[0m     \u001b[0;32mdef\u001b[0m \u001b[0m__init__\u001b[0m\u001b[0;34m(\u001b[0m\u001b[0mself\u001b[0m\u001b[0;34m,\u001b[0m \u001b[0mid\u001b[0m\u001b[0;34m=\u001b[0m\u001b[0;32mNone\u001b[0m\u001b[0;34m,\u001b[0m \u001b[0meeg_folder\u001b[0m\u001b[0;34m=\u001b[0m\u001b[0;32mNone\u001b[0m\u001b[0;34m,\u001b[0m \u001b[0mvideo_folder\u001b[0m\u001b[0;34m=\u001b[0m\u001b[0;32mNone\u001b[0m\u001b[0;34m,\u001b[0m \u001b[0mdict\u001b[0m\u001b[0;34m=\u001b[0m\u001b[0;34m{\u001b[0m\u001b[0;34m}\u001b[0m\u001b[0;34m)\u001b[0m\u001b[0;34m:\u001b[0m\u001b[0;34m\u001b[0m\u001b[0m\n\u001b[1;32m     34\u001b[0m         \u001b[0;32mif\u001b[0m \u001b[0mdict\u001b[0m \u001b[0;34m!=\u001b[0m \u001b[0;34m{\u001b[0m\u001b[0;34m}\u001b[0m\u001b[0;34m:\u001b[0m\u001b[0;34m\u001b[0m\u001b[0m\n\u001b[0;32m---> 35\u001b[0;31m             \u001b[0mself\u001b[0m\u001b[0;34m.\u001b[0m\u001b[0m__dict__\u001b[0m \u001b[0;34m=\u001b[0m \u001b[0mdict\u001b[0m\u001b[0;34m\u001b[0m\u001b[0m\n\u001b[0m\u001b[1;32m     36\u001b[0m             \u001b[0mself\u001b[0m\u001b[0;34m.\u001b[0m\u001b[0mannotations\u001b[0m \u001b[0;34m=\u001b[0m \u001b[0mAnnotationPage\u001b[0m\u001b[0;34m(\u001b[0m\u001b[0mdict\u001b[0m \u001b[0;34m=\u001b[0m \u001b[0mdict\u001b[0m\u001b[0;34m[\u001b[0m\u001b[0;34m'annotations'\u001b[0m\u001b[0;34m]\u001b[0m\u001b[0;34m)\u001b[0m\u001b[0;34m\u001b[0m\u001b[0m\n\u001b[1;32m     37\u001b[0m             \u001b[0;32mreturn\u001b[0m\u001b[0;34m\u001b[0m\u001b[0m\n",
      "\u001b[0;31mTypeError\u001b[0m: __dict__ must be set to a dictionary, not a 'NoneType'"
     ]
    }
   ],
   "source": [
    "p.load_from_json('/home/mfpleite/Shared/ele_data/proj.pyecog')"
   ]
  },
  {
   "cell_type": "code",
   "execution_count": 173,
   "metadata": {},
   "outputs": [
    {
     "data": {
      "text/plain": [
       "[{'annotation_files': [],\n",
       "  'eeg_duration': [3600,\n",
       "   3600,\n",
       "   3600,\n",
       "   3600,\n",
       "   3600,\n",
       "   3600,\n",
       "   3600,\n",
       "   3600,\n",
       "   3600,\n",
       "   3600,\n",
       "   3600,\n",
       "   3600,\n",
       "   3600,\n",
       "   3600,\n",
       "   3600,\n",
       "   3600,\n",
       "   3600,\n",
       "   3600,\n",
       "   3600,\n",
       "   3600,\n",
       "   3600,\n",
       "   3600,\n",
       "   3600,\n",
       "   3600],\n",
       "  'eeg_files': ['/home/mfpleite/Shared/ele_data/h5_119/M1569833359_2019-09-30-09-49-19_tids_[119].meta',\n",
       "   '/home/mfpleite/Shared/ele_data/h5_119/M1569800959_2019-09-30-00-49-19_tids_[119].meta',\n",
       "   '/home/mfpleite/Shared/ele_data/h5_119/M1569836959_2019-09-30-10-49-19_tids_[119].meta',\n",
       "   '/home/mfpleite/Shared/ele_data/h5_119/M1569808159_2019-09-30-02-49-19_tids_[119].meta',\n",
       "   '/home/mfpleite/Shared/ele_data/h5_119/M1569858559_2019-09-30-16-49-19_tids_[119].meta',\n",
       "   '/home/mfpleite/Shared/ele_data/h5_119/M1569851359_2019-09-30-14-49-19_tids_[119].meta',\n",
       "   '/home/mfpleite/Shared/ele_data/h5_119/M1569876559_2019-09-30-21-49-19_tids_[119].meta',\n",
       "   '/home/mfpleite/Shared/ele_data/h5_119/M1569847759_2019-09-30-13-49-19_tids_[119].meta',\n",
       "   '/home/mfpleite/Shared/ele_data/h5_119/M1569818959_2019-09-30-05-49-19_tids_[119].meta',\n",
       "   '/home/mfpleite/Shared/ele_data/h5_119/M1569804559_2019-09-30-01-49-19_tids_[119].meta',\n",
       "   '/home/mfpleite/Shared/ele_data/h5_119/M1569840559_2019-09-30-11-49-19_tids_[119].meta',\n",
       "   '/home/mfpleite/Shared/ele_data/h5_119/M1569811759_2019-09-30-03-49-19_tids_[119].meta',\n",
       "   '/home/mfpleite/Shared/ele_data/h5_119/M1569869359_2019-09-30-19-49-19_tids_[119].meta',\n",
       "   '/home/mfpleite/Shared/ele_data/h5_119/M1569844159_2019-09-30-12-49-19_tids_[119].meta',\n",
       "   '/home/mfpleite/Shared/ele_data/h5_119/M1569854959_2019-09-30-15-49-19_tids_[119].meta',\n",
       "   '/home/mfpleite/Shared/ele_data/h5_119/M1569829759_2019-09-30-08-49-19_tids_[119].meta',\n",
       "   '/home/mfpleite/Shared/ele_data/h5_119/M1569883759_2019-09-30-23-49-19_tids_[119].meta',\n",
       "   '/home/mfpleite/Shared/ele_data/h5_119/M1569815359_2019-09-30-04-49-19_tids_[119].meta',\n",
       "   '/home/mfpleite/Shared/ele_data/h5_119/M1569822559_2019-09-30-06-49-19_tids_[119].meta',\n",
       "   '/home/mfpleite/Shared/ele_data/h5_119/M1569826159_2019-09-30-07-49-19_tids_[119].meta',\n",
       "   '/home/mfpleite/Shared/ele_data/h5_119/M1569880159_2019-09-30-22-49-19_tids_[119].meta',\n",
       "   '/home/mfpleite/Shared/ele_data/h5_119/M1569862159_2019-09-30-17-49-19_tids_[119].meta',\n",
       "   '/home/mfpleite/Shared/ele_data/h5_119/M1569872959_2019-09-30-20-49-19_tids_[119].meta',\n",
       "   '/home/mfpleite/Shared/ele_data/h5_119/M1569865759_2019-09-30-18-49-19_tids_[119].meta'],\n",
       "  'eeg_init_time': [1569833359,\n",
       "   1569800959,\n",
       "   1569836959,\n",
       "   1569808159,\n",
       "   1569858559,\n",
       "   1569851359,\n",
       "   1569876559,\n",
       "   1569847759,\n",
       "   1569818959,\n",
       "   1569804559,\n",
       "   1569840559,\n",
       "   1569811759,\n",
       "   1569869359,\n",
       "   1569844159,\n",
       "   1569854959,\n",
       "   1569829759,\n",
       "   1569883759,\n",
       "   1569815359,\n",
       "   1569822559,\n",
       "   1569826159,\n",
       "   1569880159,\n",
       "   1569862159,\n",
       "   1569872959,\n",
       "   1569865759],\n",
       "  'id': 119,\n",
       "  'video_duration': [900, 900, 900, 900, 900, 900, 900, 900],\n",
       "  'video_files': ['/home/mfpleite/Shared/ele_data/119/20190923012407.mp4',\n",
       "   '/home/mfpleite/Shared/ele_data/119/20190903065523.mp4',\n",
       "   '/home/mfpleite/Shared/ele_data/119/20191018103919.mp4',\n",
       "   '/home/mfpleite/Shared/ele_data/119/20190930150911.mp4',\n",
       "   '/home/mfpleite/Shared/ele_data/119/20191018203919.mp4',\n",
       "   '/home/mfpleite/Shared/ele_data/119/20190913040452.mp4',\n",
       "   '/home/mfpleite/Shared/ele_data/119/20191019110920.mp4',\n",
       "   '/home/mfpleite/Shared/ele_data/119/20190903161023.mp4'],\n",
       "  'video_init_time': [1569194647.0,\n",
       "   1567486523.0,\n",
       "   1571387959.0,\n",
       "   1569848951.0,\n",
       "   1571423959.0,\n",
       "   1568340292.0,\n",
       "   1571476160.0,\n",
       "   1567519823.0]}]"
      ]
     },
     "execution_count": 173,
     "metadata": {},
     "output_type": "execute_result"
    }
   ],
   "source": [
    "[a.__dict__ for a in p.animal_list]"
   ]
  },
  {
   "cell_type": "code",
   "execution_count": 67,
   "metadata": {
    "collapsed": true
   },
   "outputs": [],
   "source": [
    "f = open('/home/mfpleite/Shared/ele_data/proj.pyecog','w')"
   ]
  },
  {
   "cell_type": "code",
   "execution_count": 99,
   "metadata": {},
   "outputs": [
    {
     "ename": "TypeError",
     "evalue": "'Animal' object is not iterable",
     "output_type": "error",
     "traceback": [
      "\u001b[0;31m---------------------------------------------------------------------------\u001b[0m",
      "\u001b[0;31mTypeError\u001b[0m                                 Traceback (most recent call last)",
      "\u001b[0;32m<ipython-input-99-7b0855e9975a>\u001b[0m in \u001b[0;36m<module>\u001b[0;34m()\u001b[0m\n\u001b[0;32m----> 1\u001b[0;31m \u001b[0mdict\u001b[0m\u001b[0;34m(\u001b[0m\u001b[0mp\u001b[0m\u001b[0;34m.\u001b[0m\u001b[0manimal_list\u001b[0m\u001b[0;34m[\u001b[0m\u001b[0;36m0\u001b[0m\u001b[0;34m]\u001b[0m\u001b[0;34m)\u001b[0m\u001b[0;34m\u001b[0m\u001b[0m\n\u001b[0m",
      "\u001b[0;31mTypeError\u001b[0m: 'Animal' object is not iterable"
     ]
    }
   ],
   "source": []
  },
  {
   "cell_type": "code",
   "execution_count": 59,
   "metadata": {},
   "outputs": [
    {
     "data": {
      "text/plain": [
       "1"
      ]
     },
     "execution_count": 59,
     "metadata": {},
     "output_type": "execute_result"
    }
   ],
   "source": [
    "a['t']"
   ]
  },
  {
   "cell_type": "code",
   "execution_count": 17,
   "metadata": {
    "collapsed": true
   },
   "outputs": [],
   "source": [
    "\n",
    "from PyQt5.QtMultimedia import QMediaContent, QMediaPlayer"
   ]
  },
  {
   "cell_type": "code",
   "execution_count": 20,
   "metadata": {
    "collapsed": true
   },
   "outputs": [],
   "source": [
    "\n",
    "qmc = QMediaContent(QUrl.fromLocalFile(a.video_files[0]))"
   ]
  },
  {
   "cell_type": "code",
   "execution_count": 19,
   "metadata": {
    "collapsed": true
   },
   "outputs": [],
   "source": [
    "\n",
    "from PyQt5.QtCore import QDir, Qt, QUrl\n",
    "from PyQt5.QtWidgets import QMainWindow,QWidget, QPushButton, QAction"
   ]
  },
  {
   "cell_type": "code",
   "execution_count": 8,
   "metadata": {},
   "outputs": [
    {
     "ename": "ImportError",
     "evalue": "No module named 'PyQt5.QtMultimedia'",
     "output_type": "error",
     "traceback": [
      "\u001b[0;31m---------------------------------------------------------------------------\u001b[0m",
      "\u001b[0;31mImportError\u001b[0m                               Traceback (most recent call last)",
      "\u001b[0;32m<ipython-input-8-995fb1963189>\u001b[0m in \u001b[0;36m<module>\u001b[0;34m()\u001b[0m\n\u001b[1;32m      1\u001b[0m \u001b[0;34m\u001b[0m\u001b[0m\n\u001b[1;32m      2\u001b[0m \u001b[0;32mfrom\u001b[0m \u001b[0mPyQt5\u001b[0m\u001b[0;34m.\u001b[0m\u001b[0mQtCore\u001b[0m \u001b[0;32mimport\u001b[0m \u001b[0mQDir\u001b[0m\u001b[0;34m,\u001b[0m \u001b[0mQt\u001b[0m\u001b[0;34m,\u001b[0m \u001b[0mQUrl\u001b[0m\u001b[0;34m\u001b[0m\u001b[0m\n\u001b[0;32m----> 3\u001b[0;31m \u001b[0;32mfrom\u001b[0m \u001b[0mPyQt5\u001b[0m\u001b[0;34m.\u001b[0m\u001b[0mQtMultimedia\u001b[0m \u001b[0;32mimport\u001b[0m \u001b[0mQMediaContent\u001b[0m\u001b[0;34m,\u001b[0m \u001b[0mQMediaPlayer\u001b[0m\u001b[0;34m\u001b[0m\u001b[0m\n\u001b[0m",
      "\u001b[0;31mImportError\u001b[0m: No module named 'PyQt5.QtMultimedia'"
     ]
    }
   ],
   "source": [
    "\n",
    "from PyQt5.QtCore import QDir, Qt, QUrl\n",
    "from PyQt5.QtMultimedia import QMediaContent, QMediaPlayer"
   ]
  },
  {
   "cell_type": "code",
   "execution_count": 23,
   "metadata": {},
   "outputs": [
    {
     "data": {
      "text/plain": [
       "<PyQt5.QtNetwork.QNetworkRequest at 0x7f4ce18dd898>"
      ]
     },
     "execution_count": 23,
     "metadata": {},
     "output_type": "execute_result"
    }
   ],
   "source": [
    "qmc.request()"
   ]
  },
  {
   "cell_type": "code",
   "execution_count": 7,
   "metadata": {
    "collapsed": true
   },
   "outputs": [],
   "source": [
    "import os\n"
   ]
  },
  {
   "cell_type": "code",
   "execution_count": 58,
   "metadata": {},
   "outputs": [
    {
     "data": {
      "text/plain": [
       "'/root_folder/folder/test.nb'"
      ]
     },
     "execution_count": 58,
     "metadata": {},
     "output_type": "execute_result"
    }
   ],
   "source": [
    "os.path.join('/root_folder/folder','','test.nb',)"
   ]
  },
  {
   "cell_type": "code",
   "execution_count": 59,
   "metadata": {
    "collapsed": true
   },
   "outputs": [],
   "source": [
    "w =os.walk('/home/mfpleite/Shared/ele_data/')"
   ]
  },
  {
   "cell_type": "code",
   "execution_count": 60,
   "metadata": {},
   "outputs": [
    {
     "data": {
      "text/plain": [
       "<generator object walk at 0x7f7dd8af9d00>"
      ]
     },
     "execution_count": 60,
     "metadata": {},
     "output_type": "execute_result"
    }
   ],
   "source": [
    "w"
   ]
  },
  {
   "cell_type": "code",
   "execution_count": 41,
   "metadata": {
    "collapsed": true
   },
   "outputs": [],
   "source": [
    "wl = list(w)"
   ]
  },
  {
   "cell_type": "code",
   "execution_count": 44,
   "metadata": {},
   "outputs": [
    {
     "data": {
      "text/plain": [
       "[('/home/mfpleite/Shared/ele_data/', ['h5_119', '119'], []),\n",
       " ('/home/mfpleite/Shared/ele_data/h5_119',\n",
       "  ['test_folder'],\n",
       "  ['M1569833359_2019-09-30-09-49-19_tids_[119].meta',\n",
       "   'M1569800959_2019-09-30-00-49-19_tids_[119].meta',\n",
       "   'M1569836959_2019-09-30-10-49-19_tids_[119].meta',\n",
       "   'M1569833359_2019-09-30-09-49-19_tids_[119].h5',\n",
       "   'M1569808159_2019-09-30-02-49-19_tids_[119].meta',\n",
       "   'M1569844159_2019-09-30-12-49-19_tids_[119].h5',\n",
       "   'M1569858559_2019-09-30-16-49-19_tids_[119].meta',\n",
       "   'M1569815359_2019-09-30-04-49-19_tids_[119].h5',\n",
       "   'M1569851359_2019-09-30-14-49-19_tids_[119].meta',\n",
       "   'M1569876559_2019-09-30-21-49-19_tids_[119].meta',\n",
       "   'M1569880159_2019-09-30-22-49-19_tids_[119].h5',\n",
       "   'M1569847759_2019-09-30-13-49-19_tids_[119].meta',\n",
       "   'M1569811759_2019-09-30-03-49-19_tids_[119].h5',\n",
       "   'M1569818959_2019-09-30-05-49-19_tids_[119].meta',\n",
       "   'M1569804559_2019-09-30-01-49-19_tids_[119].meta',\n",
       "   'M1569822559_2019-09-30-06-49-19_tids_[119].h5',\n",
       "   'M1569858559_2019-09-30-16-49-19_tids_[119].h5',\n",
       "   'M1569872959_2019-09-30-20-49-19_tids_[119].h5',\n",
       "   'M1569840559_2019-09-30-11-49-19_tids_[119].meta',\n",
       "   'M1569811759_2019-09-30-03-49-19_tids_[119].meta',\n",
       "   'M1569869359_2019-09-30-19-49-19_tids_[119].meta',\n",
       "   'M1569836959_2019-09-30-10-49-19_tids_[119].h5',\n",
       "   'M1569865759_2019-09-30-18-49-19_tids_[119].h5',\n",
       "   'M1569808159_2019-09-30-02-49-19_tids_[119].h5',\n",
       "   'M1569844159_2019-09-30-12-49-19_tids_[119].meta',\n",
       "   'M1569840559_2019-09-30-11-49-19_tids_[119].h5',\n",
       "   'M1569883759_2019-09-30-23-49-19_tids_[119].h5',\n",
       "   'M1569818959_2019-09-30-05-49-19_tids_[119].h5',\n",
       "   'M1569869359_2019-09-30-19-49-19_tids_[119].h5',\n",
       "   'M1569854959_2019-09-30-15-49-19_tids_[119].meta',\n",
       "   'M1569829759_2019-09-30-08-49-19_tids_[119].meta',\n",
       "   'M1569883759_2019-09-30-23-49-19_tids_[119].meta',\n",
       "   'M1569804559_2019-09-30-01-49-19_tids_[119].h5',\n",
       "   'M1569815359_2019-09-30-04-49-19_tids_[119].meta',\n",
       "   'M1569822559_2019-09-30-06-49-19_tids_[119].meta',\n",
       "   'M1569826159_2019-09-30-07-49-19_tids_[119].h5',\n",
       "   'M1569876559_2019-09-30-21-49-19_tids_[119].h5',\n",
       "   'M1569826159_2019-09-30-07-49-19_tids_[119].meta',\n",
       "   'M1569851359_2019-09-30-14-49-19_tids_[119].h5',\n",
       "   'M1569880159_2019-09-30-22-49-19_tids_[119].meta',\n",
       "   'M1569862159_2019-09-30-17-49-19_tids_[119].meta',\n",
       "   'M1569862159_2019-09-30-17-49-19_tids_[119].h5',\n",
       "   'M1569872959_2019-09-30-20-49-19_tids_[119].meta',\n",
       "   'M1569800959_2019-09-30-00-49-19_tids_[119].h5',\n",
       "   'M1569854959_2019-09-30-15-49-19_tids_[119].h5',\n",
       "   'M1569847759_2019-09-30-13-49-19_tids_[119].h5',\n",
       "   'M1569865759_2019-09-30-18-49-19_tids_[119].meta',\n",
       "   'M1569829759_2019-09-30-08-49-19_tids_[119].h5']),\n",
       " ('/home/mfpleite/Shared/ele_data/h5_119/test_folder',\n",
       "  [],\n",
       "  ['M1569822559_2019-09-30-06-49-19_tids_[119].h5']),\n",
       " ('/home/mfpleite/Shared/ele_data/119',\n",
       "  [],\n",
       "  ['20190923012407.mp4',\n",
       "   '20190903065523.mp4',\n",
       "   '20191018103919.mp4',\n",
       "   '20190930150911.mp4',\n",
       "   '20191018203919.mp4',\n",
       "   '20190913040452.mp4',\n",
       "   '20191019110920.mp4',\n",
       "   '20190903161023.mp4'])]"
      ]
     },
     "execution_count": 44,
     "metadata": {},
     "output_type": "execute_result"
    }
   ],
   "source": [
    "wl"
   ]
  },
  {
   "cell_type": "code",
   "execution_count": 57,
   "metadata": {},
   "outputs": [
    {
     "data": {
      "text/plain": [
       "('/home/mfpleite/Shared/ele_data/h5_119/test_folder',\n",
       " [],\n",
       " ['M1569822559_2019-09-30-06-49-19_tids_[119].h5'])"
      ]
     },
     "execution_count": 57,
     "metadata": {},
     "output_type": "execute_result"
    }
   ],
   "source": [
    "wl[2]"
   ]
  },
  {
   "cell_type": "code",
   "execution_count": 1,
   "metadata": {
    "collapsed": true
   },
   "outputs": [],
   "source": [
    "a = {}"
   ]
  },
  {
   "cell_type": "code",
   "execution_count": 2,
   "metadata": {},
   "outputs": [
    {
     "data": {
      "text/plain": [
       "True"
      ]
     },
     "execution_count": 2,
     "metadata": {},
     "output_type": "execute_result"
    }
   ],
   "source": [
    "a=={}"
   ]
  },
  {
   "cell_type": "code",
   "execution_count": 5,
   "metadata": {
    "collapsed": true
   },
   "outputs": [],
   "source": [
    "a['b'] = 1"
   ]
  },
  {
   "cell_type": "code",
   "execution_count": 6,
   "metadata": {},
   "outputs": [
    {
     "data": {
      "text/plain": [
       "{'b': 1}"
      ]
     },
     "execution_count": 6,
     "metadata": {},
     "output_type": "execute_result"
    }
   ],
   "source": [
    "a"
   ]
  },
  {
   "cell_type": "code",
   "execution_count": 7,
   "metadata": {},
   "outputs": [
    {
     "data": {
      "text/plain": [
       "{'b': 1}"
      ]
     },
     "execution_count": 7,
     "metadata": {},
     "output_type": "execute_result"
    }
   ],
   "source": [
    "a"
   ]
  },
  {
   "cell_type": "code",
   "execution_count": 18,
   "metadata": {
    "collapsed": true
   },
   "outputs": [],
   "source": [
    "a.__dict__['annotation_files'] = ['test']"
   ]
  },
  {
   "cell_type": "code",
   "execution_count": 20,
   "metadata": {},
   "outputs": [
    {
     "data": {
      "text/plain": [
       "['test']"
      ]
     },
     "execution_count": 20,
     "metadata": {},
     "output_type": "execute_result"
    }
   ],
   "source": [
    "a.annotation_files"
   ]
  },
  {
   "cell_type": "code",
   "execution_count": 21,
   "metadata": {},
   "outputs": [
    {
     "data": {
      "text/plain": [
       "<__main__.Animal at 0x7fac5c3fb6d8>"
      ]
     },
     "execution_count": 21,
     "metadata": {},
     "output_type": "execute_result"
    }
   ],
   "source": [
    "a"
   ]
  },
  {
   "cell_type": "code",
   "execution_count": 30,
   "metadata": {
    "collapsed": true
   },
   "outputs": [],
   "source": [
    "class Project():\n",
    "    def __init__(self,eeg_data_folder=None,video_data_folder=None,title='New Project',dict={}):\n",
    "        \n",
    "        self.animal_list = []\n",
    "        self.eeg_root_folder = eeg_data_folder\n",
    "        self.video_root_folder = video_data_folder\n",
    "        self.title = title\n"
   ]
  },
  {
   "cell_type": "code",
   "execution_count": 31,
   "metadata": {
    "collapsed": true
   },
   "outputs": [],
   "source": [
    "p = Project()"
   ]
  },
  {
   "cell_type": "code",
   "execution_count": 32,
   "metadata": {
    "collapsed": true
   },
   "outputs": [],
   "source": [
    "p.animal_list = [a]"
   ]
  },
  {
   "cell_type": "code",
   "execution_count": 43,
   "metadata": {},
   "outputs": [
    {
     "data": {
      "text/plain": [
       "{'animal_list': [<__main__.Animal at 0x7fac5c3fb6d8>],\n",
       " 'b': 2,\n",
       " 'eeg_root_folder': None,\n",
       " 'title': 'New Project',\n",
       " 'video_root_folder': None}"
      ]
     },
     "execution_count": 43,
     "metadata": {},
     "output_type": "execute_result"
    }
   ],
   "source": [
    "p.__dict__.copy()"
   ]
  },
  {
   "cell_type": "code",
   "execution_count": 46,
   "metadata": {
    "collapsed": true
   },
   "outputs": [],
   "source": [
    "d = p.__dict__"
   ]
  },
  {
   "cell_type": "code",
   "execution_count": 48,
   "metadata": {
    "collapsed": true
   },
   "outputs": [],
   "source": [
    "d['animal_list'] = [a.__dict__ for a in d['animal_list']]"
   ]
  },
  {
   "cell_type": "code",
   "execution_count": 49,
   "metadata": {},
   "outputs": [
    {
     "data": {
      "text/plain": [
       "{'animal_list': [{'annotation_files': ['test'],\n",
       "   'eeg_duration': [1569833359,\n",
       "    1569800959,\n",
       "    1569836959,\n",
       "    1569808159,\n",
       "    1569858559,\n",
       "    1569851359,\n",
       "    1569876559,\n",
       "    1569847759,\n",
       "    1569818959,\n",
       "    1569804559,\n",
       "    1569840559,\n",
       "    1569811759,\n",
       "    1569869359,\n",
       "    1569844159,\n",
       "    1569854959,\n",
       "    1569829759,\n",
       "    1569883759,\n",
       "    1569815359,\n",
       "    1569822559,\n",
       "    1569826159,\n",
       "    1569880159,\n",
       "    1569862159,\n",
       "    1569872959,\n",
       "    1569865759],\n",
       "   'eeg_files': ['/home/mfpleite/Shared/ele_data/h5_119/M1569833359_2019-09-30-09-49-19_tids_[119].meta',\n",
       "    '/home/mfpleite/Shared/ele_data/h5_119/M1569800959_2019-09-30-00-49-19_tids_[119].meta',\n",
       "    '/home/mfpleite/Shared/ele_data/h5_119/M1569836959_2019-09-30-10-49-19_tids_[119].meta',\n",
       "    '/home/mfpleite/Shared/ele_data/h5_119/M1569808159_2019-09-30-02-49-19_tids_[119].meta',\n",
       "    '/home/mfpleite/Shared/ele_data/h5_119/M1569858559_2019-09-30-16-49-19_tids_[119].meta',\n",
       "    '/home/mfpleite/Shared/ele_data/h5_119/M1569851359_2019-09-30-14-49-19_tids_[119].meta',\n",
       "    '/home/mfpleite/Shared/ele_data/h5_119/M1569876559_2019-09-30-21-49-19_tids_[119].meta',\n",
       "    '/home/mfpleite/Shared/ele_data/h5_119/M1569847759_2019-09-30-13-49-19_tids_[119].meta',\n",
       "    '/home/mfpleite/Shared/ele_data/h5_119/M1569818959_2019-09-30-05-49-19_tids_[119].meta',\n",
       "    '/home/mfpleite/Shared/ele_data/h5_119/M1569804559_2019-09-30-01-49-19_tids_[119].meta',\n",
       "    '/home/mfpleite/Shared/ele_data/h5_119/M1569840559_2019-09-30-11-49-19_tids_[119].meta',\n",
       "    '/home/mfpleite/Shared/ele_data/h5_119/M1569811759_2019-09-30-03-49-19_tids_[119].meta',\n",
       "    '/home/mfpleite/Shared/ele_data/h5_119/M1569869359_2019-09-30-19-49-19_tids_[119].meta',\n",
       "    '/home/mfpleite/Shared/ele_data/h5_119/M1569844159_2019-09-30-12-49-19_tids_[119].meta',\n",
       "    '/home/mfpleite/Shared/ele_data/h5_119/M1569854959_2019-09-30-15-49-19_tids_[119].meta',\n",
       "    '/home/mfpleite/Shared/ele_data/h5_119/M1569829759_2019-09-30-08-49-19_tids_[119].meta',\n",
       "    '/home/mfpleite/Shared/ele_data/h5_119/M1569883759_2019-09-30-23-49-19_tids_[119].meta',\n",
       "    '/home/mfpleite/Shared/ele_data/h5_119/M1569815359_2019-09-30-04-49-19_tids_[119].meta',\n",
       "    '/home/mfpleite/Shared/ele_data/h5_119/M1569822559_2019-09-30-06-49-19_tids_[119].meta',\n",
       "    '/home/mfpleite/Shared/ele_data/h5_119/M1569826159_2019-09-30-07-49-19_tids_[119].meta',\n",
       "    '/home/mfpleite/Shared/ele_data/h5_119/M1569880159_2019-09-30-22-49-19_tids_[119].meta',\n",
       "    '/home/mfpleite/Shared/ele_data/h5_119/M1569862159_2019-09-30-17-49-19_tids_[119].meta',\n",
       "    '/home/mfpleite/Shared/ele_data/h5_119/M1569872959_2019-09-30-20-49-19_tids_[119].meta',\n",
       "    '/home/mfpleite/Shared/ele_data/h5_119/M1569865759_2019-09-30-18-49-19_tids_[119].meta'],\n",
       "   'eeg_init_time': [1569833359,\n",
       "    1569800959,\n",
       "    1569836959,\n",
       "    1569808159,\n",
       "    1569858559,\n",
       "    1569851359,\n",
       "    1569876559,\n",
       "    1569847759,\n",
       "    1569818959,\n",
       "    1569804559,\n",
       "    1569840559,\n",
       "    1569811759,\n",
       "    1569869359,\n",
       "    1569844159,\n",
       "    1569854959,\n",
       "    1569829759,\n",
       "    1569883759,\n",
       "    1569815359,\n",
       "    1569822559,\n",
       "    1569826159,\n",
       "    1569880159,\n",
       "    1569862159,\n",
       "    1569872959,\n",
       "    1569865759],\n",
       "   'id': 119,\n",
       "   'video_files': ['/home/mfpleite/Shared/ele_data/119/20190923012407.mp4',\n",
       "    '/home/mfpleite/Shared/ele_data/119/20190903065523.mp4',\n",
       "    '/home/mfpleite/Shared/ele_data/119/20191018103919.mp4',\n",
       "    '/home/mfpleite/Shared/ele_data/119/20190930150911.mp4',\n",
       "    '/home/mfpleite/Shared/ele_data/119/20191018203919.mp4',\n",
       "    '/home/mfpleite/Shared/ele_data/119/20190913040452.mp4',\n",
       "    '/home/mfpleite/Shared/ele_data/119/20191019110920.mp4',\n",
       "    '/home/mfpleite/Shared/ele_data/119/20190903161023.mp4'],\n",
       "   'video_init_time': [1569194647.0,\n",
       "    1567486523.0,\n",
       "    1571387959.0,\n",
       "    1569848951.0,\n",
       "    1571423959.0,\n",
       "    1568340292.0,\n",
       "    1571476160.0,\n",
       "    1567519823.0]}],\n",
       " 'b': 2,\n",
       " 'eeg_root_folder': None,\n",
       " 'title': 'New Project',\n",
       " 'video_root_folder': None}"
      ]
     },
     "execution_count": 49,
     "metadata": {},
     "output_type": "execute_result"
    }
   ],
   "source": [
    "d"
   ]
  },
  {
   "cell_type": "code",
   "execution_count": 12,
   "metadata": {
    "collapsed": true
   },
   "outputs": [],
   "source": [
    "import numpy as np"
   ]
  },
  {
   "cell_type": "code",
   "execution_count": 27,
   "metadata": {
    "collapsed": true
   },
   "outputs": [],
   "source": [
    "a = np.array([[1,2,3],[4,5,6],[7,8,9]])\n",
    "b=a[:,0]"
   ]
  },
  {
   "cell_type": "code",
   "execution_count": 28,
   "metadata": {},
   "outputs": [
    {
     "data": {
      "text/plain": [
       "array([1, 4, 7])"
      ]
     },
     "execution_count": 28,
     "metadata": {},
     "output_type": "execute_result"
    }
   ],
   "source": [
    "b"
   ]
  },
  {
   "cell_type": "code",
   "execution_count": 29,
   "metadata": {
    "collapsed": true
   },
   "outputs": [],
   "source": [
    "a[0,0]=44"
   ]
  },
  {
   "cell_type": "code",
   "execution_count": 31,
   "metadata": {},
   "outputs": [
    {
     "data": {
      "text/plain": [
       "array([44,  4,  7])"
      ]
     },
     "execution_count": 31,
     "metadata": {},
     "output_type": "execute_result"
    }
   ],
   "source": [
    "b"
   ]
  },
  {
   "cell_type": "code",
   "execution_count": 32,
   "metadata": {},
   "outputs": [
    {
     "data": {
      "text/plain": [
       "array([[1, 2, 3],\n",
       "       [4, 5, 6],\n",
       "       [7, 8, 9]])"
      ]
     },
     "execution_count": 32,
     "metadata": {},
     "output_type": "execute_result"
    }
   ],
   "source": [
    "b[0]=1\n",
    "a"
   ]
  },
  {
   "cell_type": "code",
   "execution_count": 37,
   "metadata": {
    "collapsed": true
   },
   "outputs": [],
   "source": [
    "a = np.random.randn(100,10)"
   ]
  },
  {
   "cell_type": "code",
   "execution_count": 91,
   "metadata": {
    "collapsed": true
   },
   "outputs": [],
   "source": [
    "fp = np.memmap('test_np_memmap.bin', dtype='float32', mode='readwrite', shape=a.shape)\n"
   ]
  },
  {
   "cell_type": "code",
   "execution_count": 87,
   "metadata": {
    "collapsed": true
   },
   "outputs": [],
   "source": [
    "fp[:]=a[:]\n"
   ]
  },
  {
   "cell_type": "code",
   "execution_count": 109,
   "metadata": {
    "collapsed": true
   },
   "outputs": [],
   "source": [
    "b =fp"
   ]
  },
  {
   "cell_type": "code",
   "execution_count": 110,
   "metadata": {},
   "outputs": [
    {
     "data": {
      "text/plain": [
       "136"
      ]
     },
     "execution_count": 110,
     "metadata": {},
     "output_type": "execute_result"
    }
   ],
   "source": [
    "sys.getsizeof(b)"
   ]
  },
  {
   "cell_type": "code",
   "execution_count": 111,
   "metadata": {},
   "outputs": [
    {
     "data": {
      "text/plain": [
       "8112"
      ]
     },
     "execution_count": 111,
     "metadata": {},
     "output_type": "execute_result"
    }
   ],
   "source": [
    "sys.getsizeof(a)"
   ]
  },
  {
   "cell_type": "code",
   "execution_count": 103,
   "metadata": {
    "collapsed": true
   },
   "outputs": [],
   "source": [
    "import sys"
   ]
  },
  {
   "cell_type": "code",
   "execution_count": 127,
   "metadata": {
    "collapsed": true
   },
   "outputs": [],
   "source": [
    "s='abdcch5d.h5'"
   ]
  },
  {
   "cell_type": "code",
   "execution_count": 128,
   "metadata": {},
   "outputs": [
    {
     "data": {
      "text/plain": [
       "'abdcch5d.meta'"
      ]
     },
     "execution_count": 128,
     "metadata": {},
     "output_type": "execute_result"
    }
   ],
   "source": [
    "s.replace('.h5','.meta')"
   ]
  },
  {
   "cell_type": "code",
   "execution_count": 140,
   "metadata": {
    "collapsed": true
   },
   "outputs": [],
   "source": [
    "a = None"
   ]
  },
  {
   "cell_type": "code",
   "execution_count": 130,
   "metadata": {
    "collapsed": true
   },
   "outputs": [],
   "source": [
    "a"
   ]
  },
  {
   "cell_type": "code",
   "execution_count": 141,
   "metadata": {},
   "outputs": [
    {
     "data": {
      "text/plain": [
       "False"
      ]
     },
     "execution_count": 141,
     "metadata": {},
     "output_type": "execute_result"
    }
   ],
   "source": [
    "a is not None and a is not 4"
   ]
  },
  {
   "cell_type": "code",
   "execution_count": 174,
   "metadata": {
    "collapsed": true
   },
   "outputs": [],
   "source": [
    "def clip(x, a, b):\n",
    "    min(max(x, a), b)"
   ]
  },
  {
   "cell_type": "code",
   "execution_count": 176,
   "metadata": {
    "collapsed": true
   },
   "outputs": [],
   "source": [
    "a =clip(1778235.7362060547, 0, 1843200)"
   ]
  },
  {
   "cell_type": "code",
   "execution_count": 178,
   "metadata": {},
   "outputs": [
    {
     "data": {
      "text/plain": [
       "1778235.7362060547"
      ]
     },
     "execution_count": 178,
     "metadata": {},
     "output_type": "execute_result"
    }
   ],
   "source": [
    "min(max(1778235.7362060547, 0),"
   ]
  },
  {
   "cell_type": "code",
   "execution_count": 15,
   "metadata": {},
   "outputs": [
    {
     "name": "stdout",
     "output_type": "stream",
     "text": [
      "0.8473785779788159\n"
     ]
    },
    {
     "data": {
      "image/png": "[encoded data removed]",
      "text/plain": [
       "<matplotlib.figure.Figure at 0x7f23867242e8>"
      ]
     },
     "metadata": {
      "needs_background": "light"
     },
     "output_type": "display_data"
    }
   ],
   "source": [
    "%matplotlib inline\n",
    "k=8\n",
    "\n",
    "from timeit import default_timer as timer\n",
    "try:\n",
    "    from matplotlib.pylab import imshow, show\n",
    "    have_mpl = True\n",
    "except ImportError:\n",
    "    have_mpl = False\n",
    "import numpy as np\n",
    "from numba import jit\n",
    "\n",
    "@jit(nopython=True)\n",
    "def mandel(x, y, max_iters):\n",
    "    \"\"\"\n",
    "    Given the real and imaginary parts of a complex number,\n",
    "    determine if it is a candidate for membership in the Mandelbrot\n",
    "    set given a fixed number of iterations.\n",
    "    \"\"\"\n",
    "    i = 0\n",
    "    c = complex(x,y)\n",
    "    z = 0.0j\n",
    "    for i in range(max_iters):\n",
    "        z = z * z + c\n",
    "        if (z.real * z.real + z.imag * z.imag) >= 4:\n",
    "            return i\n",
    "\n",
    "    return 255\n",
    "\n",
    "@jit(nopython=True)\n",
    "def create_fractal(min_x, max_x, min_y, max_y, image, iters):\n",
    "    height = image.shape[0]\n",
    "    width = image.shape[1]\n",
    "\n",
    "    pixel_size_x = (max_x - min_x) / width\n",
    "    pixel_size_y = (max_y - min_y) / height\n",
    "    for x in range(width):\n",
    "        real = min_x + x * pixel_size_x\n",
    "        for y in range(height):\n",
    "            imag = min_y + y * pixel_size_y\n",
    "            color = mandel(real, imag, iters)\n",
    "            image[y, x] = color\n",
    "\n",
    "    return image\n",
    "\n",
    "image = np.zeros((500 * k, 750 * k), dtype=np.uint8)\n",
    "s = timer()\n",
    "create_fractal(-2.0, 1.0, -1.0, 1.0, image, 20)\n",
    "e = timer()\n",
    "print(e - s)\n",
    "if have_mpl:\n",
    "    imshow(image)"
   ]
  },
  {
   "cell_type": "code",
   "execution_count": 16,
   "metadata": {},
   "outputs": [
    {
     "name": "stdout",
     "output_type": "stream",
     "text": [
      "74.45428998599527\n"
     ]
    },
    {
     "data": {
      "image/png": "[encoded data removed]",
      "text/plain": [
       "<matplotlib.figure.Figure at 0x7f238733ce80>"
      ]
     },
     "metadata": {
      "needs_background": "light"
     },
     "output_type": "display_data"
    }
   ],
   "source": [
    "\n",
    "# @jit(nopython=True)\n",
    "def mandel(x, y, max_iters):\n",
    "    \"\"\"\n",
    "    Given the real and imaginary parts of a complex number,\n",
    "    determine if it is a candidate for membership in the Mandelbrot\n",
    "    set given a fixed number of iterations.\n",
    "    \"\"\"\n",
    "    i = 0\n",
    "    c = complex(x,y)\n",
    "    z = 0.0j\n",
    "    for i in range(max_iters):\n",
    "        z = z * z + c\n",
    "        if (z.real * z.real + z.imag * z.imag) >= 4:\n",
    "            return i\n",
    "\n",
    "    return 255\n",
    "\n",
    "# @jit(nopython=True)\n",
    "def create_fractal(min_x, max_x, min_y, max_y, image, iters):\n",
    "    height = image.shape[0]\n",
    "    width = image.shape[1]\n",
    "\n",
    "    pixel_size_x = (max_x - min_x) / width\n",
    "    pixel_size_y = (max_y - min_y) / height\n",
    "    for x in range(width):\n",
    "        real = min_x + x * pixel_size_x\n",
    "        for y in range(height):\n",
    "            imag = min_y + y * pixel_size_y\n",
    "            color = mandel(real, imag, iters)\n",
    "            image[y, x] = color\n",
    "\n",
    "    return image\n",
    "\n",
    "image = np.zeros((500 * k, 750 * k), dtype=np.uint8)\n",
    "s = timer()\n",
    "create_fractal(-2.0, 1.0, -1.0, 1.0, image, 20)\n",
    "e = timer()\n",
    "print(e - s)\n",
    "if have_mpl:\n",
    "    imshow(image)"
   ]
  },
  {
   "cell_type": "code",
   "execution_count": 22,
   "metadata": {},
   "outputs": [
    {
     "data": {
      "text/plain": [
       "[3, 4]"
      ]
     },
     "execution_count": 22,
     "metadata": {},
     "output_type": "execute_result"
    }
   ],
   "source": [
    "[ i for i in range(5) if i>2]"
   ]
  },
  {
   "cell_type": "code",
   "execution_count": 24,
   "metadata": {},
   "outputs": [
    {
     "data": {
      "text/plain": [
       "NoneType"
      ]
     },
     "execution_count": 24,
     "metadata": {},
     "output_type": "execute_result"
    }
   ],
   "source": [
    "type(None)"
   ]
  },
  {
   "cell_type": "code",
   "execution_count": 26,
   "metadata": {},
   "outputs": [
    {
     "data": {
      "text/plain": [
       "True"
      ]
     },
     "execution_count": 26,
     "metadata": {},
     "output_type": "execute_result"
    }
   ],
   "source": [
    "str == type('asdsa')"
   ]
  },
  {
   "cell_type": "code",
   "execution_count": 3,
   "metadata": {
    "collapsed": true
   },
   "outputs": [],
   "source": [
    "a = [1,2,3]\n",
    "b=[1,2,3]"
   ]
  },
  {
   "cell_type": "code",
   "execution_count": 4,
   "metadata": {},
   "outputs": [
    {
     "data": {
      "text/plain": [
       "True"
      ]
     },
     "execution_count": 4,
     "metadata": {},
     "output_type": "execute_result"
    }
   ],
   "source": [
    "a==b"
   ]
  },
  {
   "cell_type": "code",
   "execution_count": 1,
   "metadata": {},
   "outputs": [
    {
     "data": {
      "text/plain": [
       "29600.0"
      ]
     },
     "execution_count": 1,
     "metadata": {},
     "output_type": "execute_result"
    }
   ],
   "source": [
    "148000/5\n"
   ]
  },
  {
   "cell_type": "code",
   "execution_count": 2,
   "metadata": {},
   "outputs": [
    {
     "data": {
      "text/plain": [
       "8.222222222222221"
      ]
     },
     "execution_count": 2,
     "metadata": {},
     "output_type": "execute_result"
    }
   ],
   "source": [
    "29600/3600\n"
   ]
  },
  {
   "cell_type": "code",
   "execution_count": 1,
   "metadata": {},
   "outputs": [],
   "source": [
    "import datetime"
   ]
  },
  {
   "cell_type": "code",
   "execution_count": 3,
   "metadata": {},
   "outputs": [
    {
     "ename": "TypeError",
     "evalue": "descriptor 'tzname' of 'datetime.timezone' object needs an argument",
     "output_type": "error",
     "traceback": [
      "\u001b[0;31m---------------------------------------------------------------------------\u001b[0m",
      "\u001b[0;31mTypeError\u001b[0m                                 Traceback (most recent call last)",
      "\u001b[0;32m<ipython-input-3-6fbed1ef064e>\u001b[0m in \u001b[0;36m<module>\u001b[0;34m\u001b[0m\n\u001b[0;32m----> 1\u001b[0;31m \u001b[0mdatetime\u001b[0m\u001b[0;34m.\u001b[0m\u001b[0mtimezone\u001b[0m\u001b[0;34m.\u001b[0m\u001b[0mtzname\u001b[0m\u001b[0;34m(\u001b[0m\u001b[0;34m)\u001b[0m\u001b[0;34m\u001b[0m\u001b[0;34m\u001b[0m\u001b[0m\n\u001b[0m",
      "\u001b[0;31mTypeError\u001b[0m: descriptor 'tzname' of 'datetime.timezone' object needs an argument"
     ]
    }
   ],
   "source": [
    "datetime.timezone()"
   ]
  },
  {
   "cell_type": "code",
   "execution_count": 5,
   "metadata": {},
   "outputs": [
    {
     "ename": "TypeError",
     "evalue": "descriptor 'tzname' of 'datetime.time' object needs an argument",
     "output_type": "error",
     "traceback": [
      "\u001b[0;31m---------------------------------------------------------------------------\u001b[0m",
      "\u001b[0;31mTypeError\u001b[0m                                 Traceback (most recent call last)",
      "\u001b[0;32m<ipython-input-5-d8167ec39df5>\u001b[0m in \u001b[0;36m<module>\u001b[0;34m\u001b[0m\n\u001b[0;32m----> 1\u001b[0;31m \u001b[0mdatetime\u001b[0m\u001b[0;34m.\u001b[0m\u001b[0mtime\u001b[0m\u001b[0;34m.\u001b[0m\u001b[0mtzname\u001b[0m\u001b[0;34m(\u001b[0m\u001b[0;34m)\u001b[0m\u001b[0;34m\u001b[0m\u001b[0;34m\u001b[0m\u001b[0m\n\u001b[0m",
      "\u001b[0;31mTypeError\u001b[0m: descriptor 'tzname' of 'datetime.time' object needs an argument"
     ]
    }
   ],
   "source": [
    "datetime.time.tzname()"
   ]
  },
  {
   "cell_type": "code",
   "execution_count": null,
   "metadata": {},
   "outputs": [],
   "source": []
  }
 ],
 "metadata": {
  "kernelspec": {
   "display_name": "Python 3",
   "language": "python",
   "name": "python3"
  },
  "language_info": {
   "codemirror_mode": {
    "name": "ipython",
    "version": 3
   },
   "file_extension": ".py",
   "mimetype": "text/x-python",
   "name": "python",
   "nbconvert_exporter": "python",
   "pygments_lexer": "ipython3",
   "version": "3.7.4"
  }
 },
 "nbformat": 4,
 "nbformat_minor": 4
}
