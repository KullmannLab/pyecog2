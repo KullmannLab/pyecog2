{
 "cells": [
  {
   "cell_type": "code",
   "execution_count": 7,
   "metadata": {},
   "outputs": [],
   "source": [
    "import json\n",
    "import os\n",
    "import glob"
   ]
  },
  {
   "cell_type": "code",
   "execution_count": 30,
   "metadata": {},
   "outputs": [
    {
     "name": "stdout",
     "output_type": "stream",
     "text": [
      "../Notebooks/test.meta\n"
     ]
    }
   ],
   "source": [
    "fname = glob.glob('../Notebooks/*meta')[0]\n",
    "print(fname)"
   ]
  },
  {
   "cell_type": "code",
   "execution_count": 26,
   "metadata": {},
   "outputs": [],
   "source": [
    "with open(fname,'r') as metafile:\n",
    "    meta_data = json.load(metafile)"
   ]
  },
  {
   "cell_type": "code",
   "execution_count": 28,
   "metadata": {},
   "outputs": [
    {
     "data": {
      "text/plain": [
       "dict_keys(['binaryfilename', 'channel_labels', 'data_format', 'experiment_metadata_str', 'fs', 'no_channels', 'no_time_points', 'start_timestamp_unix', 'transmitter_id', 'volts_per_bit'])"
      ]
     },
     "execution_count": 28,
     "metadata": {},
     "output_type": "execute_result"
    }
   ],
   "source": [
    "meta_data.keys()"
   ]
  },
  {
   "cell_type": "code",
   "execution_count": 40,
   "metadata": {},
   "outputs": [],
   "source": [
    "\n",
    "params = [\n",
    "    {'name': 'Metadata', 'type': 'group', 'children':\n",
    "        [{'name': name, 'type': str(type(meta_data[name]))[8:-2], 'value': meta_data[name]} for name in meta_data.keys()]\n",
    "     }\n",
    "]"
   ]
  },
  {
   "cell_type": "code",
   "execution_count": 41,
   "metadata": {},
   "outputs": [
    {
     "data": {
      "text/plain": [
       "[{'name': 'binaryfilename', 'type': 'str', 'value': 'test.bin'},\n",
       " {'name': 'channel_labels',\n",
       "  'type': 'list',\n",
       "  'value': ['channel_0', 'channel_1', 'channel_2', 'channel_3']},\n",
       " {'name': 'data_format', 'type': 'str', 'value': '>i4'},\n",
       " {'name': 'experiment_metadata_str',\n",
       "  'type': 'str',\n",
       "  'value': 'kainate_acid_hippo'},\n",
       " {'name': 'fs', 'type': 'int', 'value': 512},\n",
       " {'name': 'no_channels', 'type': 'int', 'value': 4},\n",
       " {'name': 'no_time_points', 'type': 'int', 'value': 1843200},\n",
       " {'name': 'start_timestamp_unix', 'type': 'int', 'value': 1564066727},\n",
       " {'name': 'transmitter_id', 'type': 'str', 'value': '001'},\n",
       " {'name': 'volts_per_bit', 'type': 'float', 'value': 1.940255363782247e-10}]"
      ]
     },
     "execution_count": 41,
     "metadata": {},
     "output_type": "execute_result"
    }
   ],
   "source": [
    "params[0]['children']"
   ]
  },
  {
   "cell_type": "code",
   "execution_count": 39,
   "metadata": {},
   "outputs": [
    {
     "data": {
      "text/plain": [
       "'int'"
      ]
     },
     "execution_count": 39,
     "metadata": {},
     "output_type": "execute_result"
    }
   ],
   "source": [
    "str(int)[8:-2]"
   ]
  },
  {
   "cell_type": "code",
   "execution_count": 42,
   "metadata": {},
   "outputs": [
    {
     "data": {
      "text/plain": [
       "{'binaryfilename': 'test.bin',\n",
       " 'channel_labels': ['channel_0', 'channel_1', 'channel_2', 'channel_3'],\n",
       " 'data_format': '>i4',\n",
       " 'experiment_metadata_str': 'kainate_acid_hippo',\n",
       " 'fs': 512,\n",
       " 'no_channels': 4,\n",
       " 'no_time_points': 1843200,\n",
       " 'start_timestamp_unix': 1564066727,\n",
       " 'transmitter_id': '001',\n",
       " 'volts_per_bit': 1.940255363782247e-10}"
      ]
     },
     "execution_count": 42,
     "metadata": {},
     "output_type": "execute_result"
    }
   ],
   "source": [
    "meta_data"
   ]
  },
  {
   "cell_type": "code",
   "execution_count": null,
   "metadata": {},
   "outputs": [],
   "source": []
  }
 ],
 "metadata": {
  "kernelspec": {
   "display_name": "Python 3",
   "language": "python",
   "name": "python3"
  },
  "language_info": {
   "codemirror_mode": {
    "name": "ipython",
    "version": 3
   },
   "file_extension": ".py",
   "mimetype": "text/x-python",
   "name": "python",
   "nbconvert_exporter": "python",
   "pygments_lexer": "ipython3",
   "version": "3.7.4"
  }
 },
 "nbformat": 4,
 "nbformat_minor": 4
}
