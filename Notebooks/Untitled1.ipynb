{
 "cells": [
  {
   "cell_type": "code",
   "execution_count": 1,
   "metadata": {},
   "outputs": [],
   "source": [
    "import json\n",
    "import os\n",
    "import glob"
   ]
  },
  {
   "cell_type": "code",
   "execution_count": 30,
   "metadata": {},
   "outputs": [
    {
     "name": "stdout",
     "output_type": "stream",
     "text": [
      "../Notebooks/test.meta\n"
     ]
    }
   ],
   "source": [
    "fname = glob.glob('../Notebooks/*meta')[0]\n",
    "print(fname)"
   ]
  },
  {
   "cell_type": "code",
   "execution_count": 26,
   "metadata": {},
   "outputs": [],
   "source": [
    "with open(fname,'r') as metafile:\n",
    "    meta_data = json.load(metafile)"
   ]
  },
  {
   "cell_type": "code",
   "execution_count": 28,
   "metadata": {},
   "outputs": [
    {
     "data": {
      "text/plain": [
       "dict_keys(['binaryfilename', 'channel_labels', 'data_format', 'experiment_metadata_str', 'fs', 'no_channels', 'no_time_points', 'start_timestamp_unix', 'transmitter_id', 'volts_per_bit'])"
      ]
     },
     "execution_count": 28,
     "metadata": {},
     "output_type": "execute_result"
    }
   ],
   "source": [
    "meta_data.keys()"
   ]
  },
  {
   "cell_type": "code",
   "execution_count": 40,
   "metadata": {},
   "outputs": [],
   "source": [
    "\n",
    "params = [\n",
    "    {'name': 'Metadata', 'type': 'group', 'children':\n",
    "        [{'name': name, 'type': str(type(meta_data[name]))[8:-2], 'value': meta_data[name]} for name in meta_data.keys()]\n",
    "     }\n",
    "]"
   ]
  },
  {
   "cell_type": "code",
   "execution_count": 41,
   "metadata": {},
   "outputs": [
    {
     "data": {
      "text/plain": [
       "[{'name': 'binaryfilename', 'type': 'str', 'value': 'test.bin'},\n",
       " {'name': 'channel_labels',\n",
       "  'type': 'list',\n",
       "  'value': ['channel_0', 'channel_1', 'channel_2', 'channel_3']},\n",
       " {'name': 'data_format', 'type': 'str', 'value': '>i4'},\n",
       " {'name': 'experiment_metadata_str',\n",
       "  'type': 'str',\n",
       "  'value': 'kainate_acid_hippo'},\n",
       " {'name': 'fs', 'type': 'int', 'value': 512},\n",
       " {'name': 'no_channels', 'type': 'int', 'value': 4},\n",
       " {'name': 'no_time_points', 'type': 'int', 'value': 1843200},\n",
       " {'name': 'start_timestamp_unix', 'type': 'int', 'value': 1564066727},\n",
       " {'name': 'transmitter_id', 'type': 'str', 'value': '001'},\n",
       " {'name': 'volts_per_bit', 'type': 'float', 'value': 1.940255363782247e-10}]"
      ]
     },
     "execution_count": 41,
     "metadata": {},
     "output_type": "execute_result"
    }
   ],
   "source": [
    "params[0]['children']"
   ]
  },
  {
   "cell_type": "code",
   "execution_count": 39,
   "metadata": {},
   "outputs": [
    {
     "data": {
      "text/plain": [
       "'int'"
      ]
     },
     "execution_count": 39,
     "metadata": {},
     "output_type": "execute_result"
    }
   ],
   "source": [
    "str(int)[8:-2]"
   ]
  },
  {
   "cell_type": "code",
   "execution_count": 42,
   "metadata": {},
   "outputs": [
    {
     "data": {
      "text/plain": [
       "{'binaryfilename': 'test.bin',\n",
       " 'channel_labels': ['channel_0', 'channel_1', 'channel_2', 'channel_3'],\n",
       " 'data_format': '>i4',\n",
       " 'experiment_metadata_str': 'kainate_acid_hippo',\n",
       " 'fs': 512,\n",
       " 'no_channels': 4,\n",
       " 'no_time_points': 1843200,\n",
       " 'start_timestamp_unix': 1564066727,\n",
       " 'transmitter_id': '001',\n",
       " 'volts_per_bit': 1.940255363782247e-10}"
      ]
     },
     "execution_count": 42,
     "metadata": {},
     "output_type": "execute_result"
    }
   ],
   "source": [
    "meta_data"
   ]
  },
  {
   "cell_type": "code",
   "execution_count": 2,
   "metadata": {},
   "outputs": [],
   "source": [
    "import numpy as np\n"
   ]
  },
  {
   "cell_type": "code",
   "execution_count": 40,
   "metadata": {},
   "outputs": [],
   "source": [
    "a ={'seizures':np.array([[0,1],[4,5]]),\n",
    "   'spikes':np.array([[10,20]])}\n"
   ]
  },
  {
   "cell_type": "code",
   "execution_count": 7,
   "metadata": {},
   "outputs": [
    {
     "data": {
      "text/plain": [
       "dict_keys(['seizures', 'spikes'])"
      ]
     },
     "execution_count": 7,
     "metadata": {},
     "output_type": "execute_result"
    }
   ],
   "source": [
    "a.keys()"
   ]
  },
  {
   "cell_type": "code",
   "execution_count": 9,
   "metadata": {},
   "outputs": [
    {
     "data": {
      "text/plain": [
       "True"
      ]
     },
     "execution_count": 9,
     "metadata": {},
     "output_type": "execute_result"
    }
   ],
   "source": [
    "'spikes' in a.keys()"
   ]
  },
  {
   "cell_type": "code",
   "execution_count": 24,
   "metadata": {},
   "outputs": [
    {
     "ename": "ValueError",
     "evalue": "cannot copy sequence with size 0 to array axis with dimension 2",
     "output_type": "error",
     "traceback": [
      "\u001b[0;31m---------------------------------------------------------------------------\u001b[0m",
      "\u001b[0;31mValueError\u001b[0m                                Traceback (most recent call last)",
      "\u001b[0;32m<ipython-input-24-aff9df7d940c>\u001b[0m in \u001b[0;36m<module>\u001b[0;34m\u001b[0m\n\u001b[0;32m----> 1\u001b[0;31m \u001b[0ma\u001b[0m\u001b[0;34m[\u001b[0m\u001b[0;34m'seizures'\u001b[0m\u001b[0;34m]\u001b[0m\u001b[0;34m[\u001b[0m\u001b[0;36m0\u001b[0m\u001b[0;34m]\u001b[0m \u001b[0;34m=\u001b[0m \u001b[0;34m[\u001b[0m\u001b[0;34m]\u001b[0m\u001b[0;34m\u001b[0m\u001b[0;34m\u001b[0m\u001b[0m\n\u001b[0m",
      "\u001b[0;31mValueError\u001b[0m: cannot copy sequence with size 0 to array axis with dimension 2"
     ]
    }
   ],
   "source": [
    "a['seizures'][0] = []"
   ]
  },
  {
   "cell_type": "code",
   "execution_count": 17,
   "metadata": {},
   "outputs": [
    {
     "data": {
      "text/plain": [
       "{'spikes': [[10, 20]]}"
      ]
     },
     "execution_count": 17,
     "metadata": {},
     "output_type": "execute_result"
    }
   ],
   "source": [
    "a"
   ]
  },
  {
   "cell_type": "code",
   "execution_count": 16,
   "metadata": {},
   "outputs": [],
   "source": [
    "del a['seizures']"
   ]
  },
  {
   "cell_type": "code",
   "execution_count": 20,
   "metadata": {},
   "outputs": [
    {
     "data": {
      "text/plain": [
       "[0, 4]"
      ]
     },
     "execution_count": 20,
     "metadata": {},
     "output_type": "execute_result"
    }
   ],
   "source": [
    "[times[0] for times in a['seizures']]"
   ]
  },
  {
   "cell_type": "code",
   "execution_count": 28,
   "metadata": {},
   "outputs": [
    {
     "data": {
      "text/plain": [
       "numpy.ndarray"
      ]
     },
     "execution_count": 28,
     "metadata": {},
     "output_type": "execute_result"
    }
   ],
   "source": [
    "type(a['seizures'])"
   ]
  },
  {
   "cell_type": "code",
   "execution_count": 55,
   "metadata": {},
   "outputs": [
    {
     "data": {
      "text/plain": [
       "[[0, 1], [4, 5]]"
      ]
     },
     "execution_count": 55,
     "metadata": {},
     "output_type": "execute_result"
    }
   ],
   "source": [
    "a['seizures'].tolist()"
   ]
  },
  {
   "cell_type": "code",
   "execution_count": 33,
   "metadata": {},
   "outputs": [
    {
     "data": {
      "text/plain": [
       "'{\"seizures\": [[0, 1], [4, 5]], \"spikes\": [[10, 20]]}'"
      ]
     },
     "execution_count": 33,
     "metadata": {},
     "output_type": "execute_result"
    }
   ],
   "source": [
    "json.dumps(a)"
   ]
  },
  {
   "cell_type": "code",
   "execution_count": 42,
   "metadata": {},
   "outputs": [],
   "source": [
    "dictionary = a"
   ]
  },
  {
   "cell_type": "code",
   "execution_count": 41,
   "metadata": {},
   "outputs": [
    {
     "name": "stdout",
     "output_type": "stream",
     "text": [
      "[[0 1]\n",
      " [4 5]]\n",
      "[[10 20]]\n"
     ]
    }
   ],
   "source": [
    "for element in a:\n",
    "    print(a[element])"
   ]
  },
  {
   "cell_type": "code",
   "execution_count": 52,
   "metadata": {},
   "outputs": [],
   "source": [
    "shapes = [len(dictionary[label].shape) and dictionary[label].shape[1]==2 for label in dictionary]"
   ]
  },
  {
   "cell_type": "code",
   "execution_count": 50,
   "metadata": {},
   "outputs": [
    {
     "data": {
      "text/plain": [
       "True"
      ]
     },
     "execution_count": 50,
     "metadata": {},
     "output_type": "execute_result"
    }
   ],
   "source": [
    "all(shapes)"
   ]
  },
  {
   "cell_type": "code",
   "execution_count": null,
   "metadata": {},
   "outputs": [],
   "source": [
    "json.load()"
   ]
  },
  {
   "cell_type": "code",
   "execution_count": 61,
   "metadata": {},
   "outputs": [
    {
     "ename": "SyntaxError",
     "evalue": "invalid syntax (<ipython-input-61-96df2879419c>, line 1)",
     "output_type": "error",
     "traceback": [
      "\u001b[0;36m  File \u001b[0;32m\"<ipython-input-61-96df2879419c>\"\u001b[0;36m, line \u001b[0;32m1\u001b[0m\n\u001b[0;31m    from '/home/mfpleite/PycharmProjects/pyecog2/annotations' import annotations\u001b[0m\n\u001b[0m                                                            ^\u001b[0m\n\u001b[0;31mSyntaxError\u001b[0m\u001b[0;31m:\u001b[0m invalid syntax\n"
     ]
    }
   ],
   "source": [
    "from '/home/mfpleite/PycharmProjects/pyecog2/annotations' import annotations"
   ]
  },
  {
   "cell_type": "code",
   "execution_count": 1,
   "metadata": {},
   "outputs": [],
   "source": [
    "import sys"
   ]
  },
  {
   "cell_type": "code",
   "execution_count": 1,
   "metadata": {},
   "outputs": [],
   "source": [
    "import json\n",
    "\n",
    "class Annotations:\n",
    "    def __init__(self, dictionary=None, fname=None):\n",
    "        if dictionary is not None and self.check_dict(dictionary):\n",
    "            self.annotations_dict = dictionary\n",
    "            self.labels = self.annotations_dict.keys()\n",
    "        elif fname is not None:\n",
    "            self.import_from_json(fname)\n",
    "        else:\n",
    "            self.annotations_dict = {}\n",
    "            self.labels = self.annotations_dict.keys()\n",
    "\n",
    "    @staticmethod\n",
    "    def check_dict(dictionary):  # try to check if dictionary structure is valid\n",
    "        if type(dictionary) is not dict:\n",
    "            return False\n",
    "        # Now check that all labels have lists of lists of length 2, with numbers inside : TO DO\n",
    "        if not all([type(dictionary[label]) == list for label in dictionary]):\n",
    "            print('Annotations: invalid type for annotations dictionary')\n",
    "            return False\n",
    "        if not all([all([len(i) == 2 for i in dictionary[label]]) for label in dictionary]):\n",
    "            print('Annotations: invalid length(s) for [start, end] of annotations')\n",
    "            return False\n",
    "        if not all([all([all([type(j) in [int, float] for j in i]) for i in dictionary[label]]) for label in dictionary]):\n",
    "            print('Annotations: invalid data type for start and end of annotations')\n",
    "            return False\n",
    "        return True\n",
    "\n",
    "    def add_annotation(self, label, tstart, tend):\n",
    "        if label in self.labels:\n",
    "            self.annotations_dict[label].append([tstart, tend])\n",
    "        else:\n",
    "            self.add_label(label)\n",
    "            self.annotations_dict[label] = [[tstart, tend]]\n",
    "\n",
    "    def delete_annotation(self, label, index):\n",
    "        try:\n",
    "            del self.annotations_dict[label][index]\n",
    "        except IndexError:\n",
    "            print('Annotation index is out of range')\n",
    "\n",
    "    def delete_label(self, label):\n",
    "        del self.annotations_dict[label]\n",
    "        self.labels = self.annotations_dict.keys()\n",
    "\n",
    "    def add_label(self, label):\n",
    "        if label not in self.labels:\n",
    "            self.annotations_dict[label] = []\n",
    "            self.labels = self.annotations_dict.keys()\n",
    "        else:\n",
    "            print('Annotations: Label already exists')\n",
    "\n",
    "    def set_annotation_times(self, label, index, tstart, tend):\n",
    "        self.annotations_dict[label][index] = [tstart, tend]\n",
    "\n",
    "    def get_all_annotation_times(self,label):\n",
    "        return [i for i in self.annotations_dict[label]]\n",
    "\n",
    "    def get_all_start_times(self, label):\n",
    "        return [i[0] for i in self.annotations_dict[label]]\n",
    "\n",
    "    def get_all_end_times(self, label):\n",
    "        return [i[1] for i in self.annotations_dict[label]]\n",
    "\n",
    "    def import_from_json(self, fname):\n",
    "        with open(fname, 'r') as f:\n",
    "            self.annotations_dict = json.load(f)\n",
    "        if not self.check_dict(self.annotations_dict):\n",
    "            self.annotations_dict = {}\n",
    "            print('Annotations: invalid dictionary in Json file')\n",
    "        self.labels = self.annotations_dict.keys()\n",
    "\n",
    "    def export_to_json(self, fname):\n",
    "        with open(fname, 'w') as f:\n",
    "            json.dump(self.annotations_dict, f)\n",
    "\n",
    "    def export_to_csv(self, fname, label):\n",
    "        with open(fname, 'w') as f:\n",
    "            f.write(label + ',' + 'start,stop\\n')\n",
    "            for i,j in enumerate(self.annotations_dict[label]):\n",
    "                f.write(str(i) + ',' + str(j[0]) + ',' + str(j[1]) + '\\n')\n",
    "\n",
    "    def __repr__(self):\n",
    "        return repr(self.annotations_dict)\n",
    "\n",
    "    def __str__(self):\n",
    "        return str(self.annotations_dict)"
   ]
  },
  {
   "cell_type": "code",
   "execution_count": 2,
   "metadata": {},
   "outputs": [],
   "source": [
    "a = Annotations({'seizure':[[1,2],[5,6],[5,7]]})"
   ]
  },
  {
   "cell_type": "code",
   "execution_count": 5,
   "metadata": {},
   "outputs": [
    {
     "data": {
      "text/plain": [
       "{'seizure': [[1, 2], [5, 6], [5, 7], [4, 5.6], [7, 9]]}"
      ]
     },
     "execution_count": 5,
     "metadata": {},
     "output_type": "execute_result"
    }
   ],
   "source": [
    "a"
   ]
  },
  {
   "cell_type": "code",
   "execution_count": 6,
   "metadata": {},
   "outputs": [],
   "source": [
    "a.add_annotation('seizure', 4,5.6)\n",
    "a.add_annotation('seizure', 7,9)"
   ]
  },
  {
   "cell_type": "code",
   "execution_count": 7,
   "metadata": {},
   "outputs": [],
   "source": [
    "b = a.get_all_annotation_times('seizure')[0]"
   ]
  },
  {
   "cell_type": "code",
   "execution_count": 18,
   "metadata": {},
   "outputs": [],
   "source": [
    "b[0]= 0"
   ]
  },
  {
   "cell_type": "code",
   "execution_count": 134,
   "metadata": {},
   "outputs": [
    {
     "data": {
      "text/plain": [
       "{'seizure': [[1, 2], [5, 6], [5, 7], [4, 5.6], [7, 9]]}"
      ]
     },
     "execution_count": 134,
     "metadata": {},
     "output_type": "execute_result"
    }
   ],
   "source": [
    "a.annotations_dict"
   ]
  },
  {
   "cell_type": "code",
   "execution_count": 135,
   "metadata": {},
   "outputs": [
    {
     "data": {
      "text/plain": [
       "{'seizure': [[1, 2], [5, 6], [5, 7], [4, 5.6], [7, 9]]}"
      ]
     },
     "execution_count": 135,
     "metadata": {},
     "output_type": "execute_result"
    }
   ],
   "source": [
    "a"
   ]
  },
  {
   "cell_type": "code",
   "execution_count": 136,
   "metadata": {},
   "outputs": [],
   "source": [
    "a.delete_annotation('seizure',1)"
   ]
  },
  {
   "cell_type": "code",
   "execution_count": 137,
   "metadata": {},
   "outputs": [
    {
     "data": {
      "text/plain": [
       "[2, 7, 5.6, 9]"
      ]
     },
     "execution_count": 137,
     "metadata": {},
     "output_type": "execute_result"
    }
   ],
   "source": [
    "a.get_all_end_times('seizure')"
   ]
  },
  {
   "cell_type": "code",
   "execution_count": 138,
   "metadata": {},
   "outputs": [],
   "source": [
    "a.export_to_json('annotations_test.ano')"
   ]
  },
  {
   "cell_type": "code",
   "execution_count": 139,
   "metadata": {},
   "outputs": [],
   "source": [
    "b = Annotations(fname='annotations_test.ano')"
   ]
  },
  {
   "cell_type": "code",
   "execution_count": 140,
   "metadata": {},
   "outputs": [
    {
     "data": {
      "text/plain": [
       "{'seizure': [[1, 2], [5, 7], [4, 5.6], [7, 9]]}"
      ]
     },
     "execution_count": 140,
     "metadata": {},
     "output_type": "execute_result"
    }
   ],
   "source": [
    "b.annotations_dict"
   ]
  },
  {
   "cell_type": "code",
   "execution_count": 141,
   "metadata": {},
   "outputs": [
    {
     "data": {
      "text/plain": [
       "{'seizure': [[1, 2], [5, 7], [4, 5.6], [7, 9]]}"
      ]
     },
     "execution_count": 141,
     "metadata": {},
     "output_type": "execute_result"
    }
   ],
   "source": [
    "a"
   ]
  },
  {
   "cell_type": "code",
   "execution_count": 142,
   "metadata": {},
   "outputs": [],
   "source": [
    "a.export_to_csv('annotations_test.csv','seizure')"
   ]
  },
  {
   "cell_type": "code",
   "execution_count": 8,
   "metadata": {},
   "outputs": [
    {
     "data": {
      "text/plain": [
       "9"
      ]
     },
     "execution_count": 8,
     "metadata": {},
     "output_type": "execute_result"
    }
   ],
   "source": [
    "sum([4,5])"
   ]
  },
  {
   "cell_type": "code",
   "execution_count": 20,
   "metadata": {},
   "outputs": [
    {
     "data": {
      "text/plain": [
       "43200000"
      ]
     },
     "execution_count": 20,
     "metadata": {},
     "output_type": "execute_result"
    }
   ],
   "source": [
    "3600*500*3*8"
   ]
  },
  {
   "cell_type": "code",
   "execution_count": 21,
   "metadata": {},
   "outputs": [],
   "source": [
    "import colorsys"
   ]
  },
  {
   "cell_type": "code",
   "execution_count": 30,
   "metadata": {},
   "outputs": [
    {
     "ename": "NameError",
     "evalue": "name 'array' is not defined",
     "output_type": "error",
     "traceback": [
      "\u001b[0;31m---------------------------------------------------------------------------\u001b[0m",
      "\u001b[0;31mNameError\u001b[0m                                 Traceback (most recent call last)",
      "\u001b[0;32m<ipython-input-30-90852eb665fd>\u001b[0m in \u001b[0;36m<module>\u001b[0;34m\u001b[0m\n\u001b[0;32m----> 1\u001b[0;31m \u001b[0mc\u001b[0m \u001b[0;34m=\u001b[0m\u001b[0marray\u001b[0m\u001b[0;34m(\u001b[0m\u001b[0mcolorsys\u001b[0m\u001b[0;34m.\u001b[0m\u001b[0mhls_to_rgb\u001b[0m\u001b[0;34m(\u001b[0m\u001b[0;36m0\u001b[0m\u001b[0;34m,\u001b[0m \u001b[0;36m.5\u001b[0m\u001b[0;34m,\u001b[0m \u001b[0;36m.9\u001b[0m\u001b[0;34m)\u001b[0m\u001b[0;34m)\u001b[0m\u001b[0;34m*\u001b[0m\u001b[0;36m255\u001b[0m\u001b[0;34m\u001b[0m\u001b[0;34m\u001b[0m\u001b[0m\n\u001b[0m",
      "\u001b[0;31mNameError\u001b[0m: name 'array' is not defined"
     ]
    }
   ],
   "source": [
    "c =array(colorsys.hls_to_rgb(0, .5, .9))*255"
   ]
  },
  {
   "cell_type": "code",
   "execution_count": 29,
   "metadata": {},
   "outputs": [
    {
     "ename": "TypeError",
     "evalue": "list expected at most 1 arguments, got 3",
     "output_type": "error",
     "traceback": [
      "\u001b[0;31m---------------------------------------------------------------------------\u001b[0m",
      "\u001b[0;31mTypeError\u001b[0m                                 Traceback (most recent call last)",
      "\u001b[0;32m<ipython-input-29-bb06dc43bef7>\u001b[0m in \u001b[0;36m<module>\u001b[0;34m\u001b[0m\n\u001b[0;32m----> 1\u001b[0;31m \u001b[0mlist\u001b[0m\u001b[0;34m(\u001b[0m\u001b[0;34m*\u001b[0m\u001b[0mc\u001b[0m\u001b[0;34m)\u001b[0m\u001b[0;34m\u001b[0m\u001b[0;34m\u001b[0m\u001b[0m\n\u001b[0m",
      "\u001b[0;31mTypeError\u001b[0m: list expected at most 1 arguments, got 3"
     ]
    }
   ],
   "source": []
  },
  {
   "cell_type": "code",
   "execution_count": null,
   "metadata": {},
   "outputs": [],
   "source": []
  }
 ],
 "metadata": {
  "kernelspec": {
   "display_name": "Python 3",
   "language": "python",
   "name": "python3"
  },
  "language_info": {
   "codemirror_mode": {
    "name": "ipython",
    "version": 3
   },
   "file_extension": ".py",
   "mimetype": "text/x-python",
   "name": "python",
   "nbconvert_exporter": "python",
   "pygments_lexer": "ipython3",
   "version": "3.7.4"
  }
 },
 "nbformat": 4,
 "nbformat_minor": 4
}
