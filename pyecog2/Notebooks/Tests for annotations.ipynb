{
 "cells": [
  {
   "cell_type": "code",
   "execution_count": 1,
   "metadata": {},
   "outputs": [],
   "source": [
    "import json\n",
    "import os\n",
    "import glob"
   ]
  },
  {
   "cell_type": "code",
   "execution_count": 30,
   "metadata": {},
   "outputs": [
    {
     "name": "stdout",
     "output_type": "stream",
     "text": [
      "../Notebooks/test.meta\n"
     ]
    }
   ],
   "source": [
    "fname = glob.glob('../Notebooks/*meta')[0]\n",
    "print(fname)"
   ]
  },
  {
   "cell_type": "code",
   "execution_count": 26,
   "metadata": {},
   "outputs": [],
   "source": [
    "with open(fname,'r') as metafile:\n",
    "    meta_data = json.load(metafile)"
   ]
  },
  {
   "cell_type": "code",
   "execution_count": 28,
   "metadata": {},
   "outputs": [
    {
     "data": {
      "text/plain": [
       "dict_keys(['binaryfilename', 'channel_labels', 'data_format', 'experiment_metadata_str', 'fs', 'no_channels', 'no_time_points', 'start_timestamp_unix', 'transmitter_id', 'volts_per_bit'])"
      ]
     },
     "execution_count": 28,
     "metadata": {},
     "output_type": "execute_result"
    }
   ],
   "source": [
    "meta_data.keys()"
   ]
  },
  {
   "cell_type": "code",
   "execution_count": 40,
   "metadata": {},
   "outputs": [],
   "source": [
    "\n",
    "params = [\n",
    "    {'name': 'Metadata', 'type': 'group', 'children':\n",
    "        [{'name': name, 'type': str(type(meta_data[name]))[8:-2], 'value': meta_data[name]} for name in meta_data.keys()]\n",
    "     }\n",
    "]"
   ]
  },
  {
   "cell_type": "code",
   "execution_count": 41,
   "metadata": {},
   "outputs": [
    {
     "data": {
      "text/plain": [
       "[{'name': 'binaryfilename', 'type': 'str', 'value': 'test.bin'},\n",
       " {'name': 'channel_labels',\n",
       "  'type': 'list',\n",
       "  'value': ['channel_0', 'channel_1', 'channel_2', 'channel_3']},\n",
       " {'name': 'data_format', 'type': 'str', 'value': '>i4'},\n",
       " {'name': 'experiment_metadata_str',\n",
       "  'type': 'str',\n",
       "  'value': 'kainate_acid_hippo'},\n",
       " {'name': 'fs', 'type': 'int', 'value': 512},\n",
       " {'name': 'no_channels', 'type': 'int', 'value': 4},\n",
       " {'name': 'no_time_points', 'type': 'int', 'value': 1843200},\n",
       " {'name': 'start_timestamp_unix', 'type': 'int', 'value': 1564066727},\n",
       " {'name': 'transmitter_id', 'type': 'str', 'value': '001'},\n",
       " {'name': 'volts_per_bit', 'type': 'float', 'value': 1.940255363782247e-10}]"
      ]
     },
     "execution_count": 41,
     "metadata": {},
     "output_type": "execute_result"
    }
   ],
   "source": [
    "params[0]['children']"
   ]
  },
  {
   "cell_type": "code",
   "execution_count": 39,
   "metadata": {},
   "outputs": [
    {
     "data": {
      "text/plain": [
       "'int'"
      ]
     },
     "execution_count": 39,
     "metadata": {},
     "output_type": "execute_result"
    }
   ],
   "source": [
    "str(int)[8:-2]"
   ]
  },
  {
   "cell_type": "code",
   "execution_count": 42,
   "metadata": {},
   "outputs": [
    {
     "data": {
      "text/plain": [
       "{'binaryfilename': 'test.bin',\n",
       " 'channel_labels': ['channel_0', 'channel_1', 'channel_2', 'channel_3'],\n",
       " 'data_format': '>i4',\n",
       " 'experiment_metadata_str': 'kainate_acid_hippo',\n",
       " 'fs': 512,\n",
       " 'no_channels': 4,\n",
       " 'no_time_points': 1843200,\n",
       " 'start_timestamp_unix': 1564066727,\n",
       " 'transmitter_id': '001',\n",
       " 'volts_per_bit': 1.940255363782247e-10}"
      ]
     },
     "execution_count": 42,
     "metadata": {},
     "output_type": "execute_result"
    }
   ],
   "source": [
    "meta_data"
   ]
  },
  {
   "cell_type": "code",
   "execution_count": 32,
   "metadata": {},
   "outputs": [],
   "source": [
    "import numpy as np\n"
   ]
  },
  {
   "cell_type": "code",
   "execution_count": 40,
   "metadata": {},
   "outputs": [],
   "source": [
    "a ={'seizures':np.array([[0,1],[4,5]]),\n",
    "   'spikes':np.array([[10,20]])}\n"
   ]
  },
  {
   "cell_type": "code",
   "execution_count": 7,
   "metadata": {},
   "outputs": [
    {
     "data": {
      "text/plain": [
       "dict_keys(['seizures', 'spikes'])"
      ]
     },
     "execution_count": 7,
     "metadata": {},
     "output_type": "execute_result"
    }
   ],
   "source": [
    "a.keys()"
   ]
  },
  {
   "cell_type": "code",
   "execution_count": 9,
   "metadata": {},
   "outputs": [
    {
     "data": {
      "text/plain": [
       "True"
      ]
     },
     "execution_count": 9,
     "metadata": {},
     "output_type": "execute_result"
    }
   ],
   "source": [
    "'spikes' in a.keys()"
   ]
  },
  {
   "cell_type": "code",
   "execution_count": 24,
   "metadata": {},
   "outputs": [
    {
     "ename": "ValueError",
     "evalue": "cannot copy sequence with size 0 to array axis with dimension 2",
     "output_type": "error",
     "traceback": [
      "\u001b[0;31m---------------------------------------------------------------------------\u001b[0m",
      "\u001b[0;31mValueError\u001b[0m                                Traceback (most recent call last)",
      "\u001b[0;32m<ipython-input-24-aff9df7d940c>\u001b[0m in \u001b[0;36m<module>\u001b[0;34m\u001b[0m\n\u001b[0;32m----> 1\u001b[0;31m \u001b[0ma\u001b[0m\u001b[0;34m[\u001b[0m\u001b[0;34m'seizures'\u001b[0m\u001b[0;34m]\u001b[0m\u001b[0;34m[\u001b[0m\u001b[0;36m0\u001b[0m\u001b[0;34m]\u001b[0m \u001b[0;34m=\u001b[0m \u001b[0;34m[\u001b[0m\u001b[0;34m]\u001b[0m\u001b[0;34m\u001b[0m\u001b[0;34m\u001b[0m\u001b[0m\n\u001b[0m",
      "\u001b[0;31mValueError\u001b[0m: cannot copy sequence with size 0 to array axis with dimension 2"
     ]
    }
   ],
   "source": [
    "a['seizures'][0] = []"
   ]
  },
  {
   "cell_type": "code",
   "execution_count": 17,
   "metadata": {},
   "outputs": [
    {
     "data": {
      "text/plain": [
       "{'spikes': [[10, 20]]}"
      ]
     },
     "execution_count": 17,
     "metadata": {},
     "output_type": "execute_result"
    }
   ],
   "source": [
    "a"
   ]
  },
  {
   "cell_type": "code",
   "execution_count": 16,
   "metadata": {},
   "outputs": [],
   "source": [
    "del a['seizures']"
   ]
  },
  {
   "cell_type": "code",
   "execution_count": 20,
   "metadata": {},
   "outputs": [
    {
     "data": {
      "text/plain": [
       "[0, 4]"
      ]
     },
     "execution_count": 20,
     "metadata": {},
     "output_type": "execute_result"
    }
   ],
   "source": [
    "[times[0] for times in a['seizures']]"
   ]
  },
  {
   "cell_type": "code",
   "execution_count": 28,
   "metadata": {},
   "outputs": [
    {
     "data": {
      "text/plain": [
       "numpy.ndarray"
      ]
     },
     "execution_count": 28,
     "metadata": {},
     "output_type": "execute_result"
    }
   ],
   "source": [
    "type(a['seizures'])"
   ]
  },
  {
   "cell_type": "code",
   "execution_count": 55,
   "metadata": {},
   "outputs": [
    {
     "data": {
      "text/plain": [
       "[[0, 1], [4, 5]]"
      ]
     },
     "execution_count": 55,
     "metadata": {},
     "output_type": "execute_result"
    }
   ],
   "source": [
    "a['seizures'].tolist()"
   ]
  },
  {
   "cell_type": "code",
   "execution_count": 33,
   "metadata": {},
   "outputs": [
    {
     "data": {
      "text/plain": [
       "'{\"seizures\": [[0, 1], [4, 5]], \"spikes\": [[10, 20]]}'"
      ]
     },
     "execution_count": 33,
     "metadata": {},
     "output_type": "execute_result"
    }
   ],
   "source": [
    "json.dumps(a)"
   ]
  },
  {
   "cell_type": "code",
   "execution_count": 42,
   "metadata": {},
   "outputs": [],
   "source": [
    "dictionary = a"
   ]
  },
  {
   "cell_type": "code",
   "execution_count": 41,
   "metadata": {},
   "outputs": [
    {
     "name": "stdout",
     "output_type": "stream",
     "text": [
      "[[0 1]\n",
      " [4 5]]\n",
      "[[10 20]]\n"
     ]
    }
   ],
   "source": [
    "for element in a:\n",
    "    print(a[element])"
   ]
  },
  {
   "cell_type": "code",
   "execution_count": 52,
   "metadata": {},
   "outputs": [],
   "source": [
    "shapes = [len(dictionary[label].shape) and dictionary[label].shape[1]==2 for label in dictionary]"
   ]
  },
  {
   "cell_type": "code",
   "execution_count": 50,
   "metadata": {},
   "outputs": [
    {
     "data": {
      "text/plain": [
       "True"
      ]
     },
     "execution_count": 50,
     "metadata": {},
     "output_type": "execute_result"
    }
   ],
   "source": [
    "all(shapes)"
   ]
  },
  {
   "cell_type": "code",
   "execution_count": null,
   "metadata": {},
   "outputs": [],
   "source": [
    "json.load()"
   ]
  },
  {
   "cell_type": "code",
   "execution_count": 61,
   "metadata": {},
   "outputs": [
    {
     "ename": "SyntaxError",
     "evalue": "invalid syntax (<ipython-input-61-96df2879419c>, line 1)",
     "output_type": "error",
     "traceback": [
      "\u001b[0;36m  File \u001b[0;32m\"<ipython-input-61-96df2879419c>\"\u001b[0;36m, line \u001b[0;32m1\u001b[0m\n\u001b[0;31m    from '/home/mfpleite/PycharmProjects/pyecog2/annotations' import annotations\u001b[0m\n\u001b[0m                                                            ^\u001b[0m\n\u001b[0;31mSyntaxError\u001b[0m\u001b[0;31m:\u001b[0m invalid syntax\n"
     ]
    }
   ],
   "source": [
    "from '/home/mfpleite/PycharmProjects/pyecog2/annotations' import annotations"
   ]
  },
  {
   "cell_type": "code",
   "execution_count": 2,
   "metadata": {},
   "outputs": [],
   "source": [
    "import sys"
   ]
  },
  {
   "cell_type": "code",
   "execution_count": 3,
   "metadata": {},
   "outputs": [],
   "source": [
    "import json\n",
    "\n",
    "class Annotations:\n",
    "    def __init__(self, dictionary=None, fname=None):\n",
    "        if dictionary is not None and self.check_dict(dictionary):\n",
    "            self.annotations_dict = dictionary\n",
    "            self.labels = self.annotations_dict.keys()\n",
    "        elif fname is not None:\n",
    "            self.import_from_json(fname)\n",
    "        else:\n",
    "            self.annotations_dict = {}\n",
    "            self.labels = self.annotations_dict.keys()\n",
    "\n",
    "    @staticmethod\n",
    "    def check_dict(dictionary):  # try to check if dictionary structure is valid\n",
    "        if type(dictionary) is not dict:\n",
    "            return False\n",
    "        # Now check that all labels have lists of lists of length 2, with numbers inside : TO DO\n",
    "        if not all([type(dictionary[label]) == list for label in dictionary]):\n",
    "            print('Annotations: invalid type for annotations dictionary')\n",
    "            return False\n",
    "        if not all([all([len(i) == 2 for i in dictionary[label]]) for label in dictionary]):\n",
    "            print('Annotations: invalid length(s) for [start, end] of annotations')\n",
    "            return False\n",
    "        if not all([all([all([type(j) in [int, float] for j in i]) for i in dictionary[label]]) for label in dictionary]):\n",
    "            print('Annotations: invalid data type for start and end of annotations')\n",
    "            return False\n",
    "        return True\n",
    "\n",
    "    def add_annotation(self, label, tstart, tend):\n",
    "        if label in self.labels:\n",
    "            self.annotations_dict[label].append([tstart, tend])\n",
    "        else:\n",
    "            self.add_label(label)\n",
    "            self.annotations_dict[label] = [[tstart, tend]]\n",
    "\n",
    "    def delete_annotation(self, label, index):\n",
    "        try:\n",
    "            del self.annotations_dict[label][index]\n",
    "        except IndexError:\n",
    "            print('Annotation index is out of range')\n",
    "\n",
    "    def delete_label(self, label):\n",
    "        del self.annotations_dict[label]\n",
    "        self.labels = self.annotations_dict.keys()\n",
    "\n",
    "    def add_label(self, label):\n",
    "        if label not in self.labels:\n",
    "            self.annotations_dict[label] = []\n",
    "            self.labels = self.annotations_dict.keys()\n",
    "        else:\n",
    "            print('Annotations: Label already exists')\n",
    "\n",
    "    def set_annotation_times(self, label, index, tstart, tend):\n",
    "        self.annotations_dict[label][index] = [tstart, tend]\n",
    "\n",
    "    def get_all_annotation_times(self,label):\n",
    "        return [i for i in self.annotations_dict[label]]\n",
    "\n",
    "    def get_all_start_times(self, label):\n",
    "        return [i[0] for i in self.annotations_dict[label]]\n",
    "\n",
    "    def get_all_end_times(self, label):\n",
    "        return [i[1] for i in self.annotations_dict[label]]\n",
    "\n",
    "    def import_from_json(self, fname):\n",
    "        with open(fname, 'r') as f:\n",
    "            self.annotations_dict = json.load(f)\n",
    "        if not self.check_dict(self.annotations_dict):\n",
    "            self.annotations_dict = {}\n",
    "            print('Annotations: invalid dictionary in Json file')\n",
    "        self.labels = self.annotations_dict.keys()\n",
    "\n",
    "    def export_to_json(self, fname):\n",
    "        with open(fname, 'w') as f:\n",
    "            json.dump(self.annotations_dict, f)\n",
    "\n",
    "    def export_to_csv(self, fname, label):\n",
    "        with open(fname, 'w') as f:\n",
    "            f.write(label + ',' + 'start,stop\\n')\n",
    "            for i,j in enumerate(self.annotations_dict[label]):\n",
    "                f.write(str(i) + ',' + str(j[0]) + ',' + str(j[1]) + '\\n')\n",
    "\n",
    "    def __repr__(self):\n",
    "        return repr(self.annotations_dict)\n",
    "\n",
    "    def __str__(self):\n",
    "        return str(self.annotations_dict)"
   ]
  },
  {
   "cell_type": "code",
   "execution_count": 4,
   "metadata": {},
   "outputs": [],
   "source": [
    "a = Annotations({'seizure':[[1,2],[5,6],[5,7]]})"
   ]
  },
  {
   "cell_type": "code",
   "execution_count": 5,
   "metadata": {},
   "outputs": [
    {
     "data": {
      "text/plain": [
       "{'seizure': [[1, 2], [5, 6], [5, 7], [4, 5.6], [7, 9]]}"
      ]
     },
     "execution_count": 5,
     "metadata": {},
     "output_type": "execute_result"
    }
   ],
   "source": [
    "a"
   ]
  },
  {
   "cell_type": "code",
   "execution_count": 6,
   "metadata": {},
   "outputs": [],
   "source": [
    "a.add_annotation('seizure', 4,5.6)\n",
    "a.add_annotation('seizure', 7,9)"
   ]
  },
  {
   "cell_type": "code",
   "execution_count": 7,
   "metadata": {},
   "outputs": [],
   "source": [
    "b = a.get_all_annotation_times('seizure')[0]"
   ]
  },
  {
   "cell_type": "code",
   "execution_count": 18,
   "metadata": {},
   "outputs": [],
   "source": [
    "b[0]= 0"
   ]
  },
  {
   "cell_type": "code",
   "execution_count": 134,
   "metadata": {},
   "outputs": [
    {
     "data": {
      "text/plain": [
       "{'seizure': [[1, 2], [5, 6], [5, 7], [4, 5.6], [7, 9]]}"
      ]
     },
     "execution_count": 134,
     "metadata": {},
     "output_type": "execute_result"
    }
   ],
   "source": [
    "a.annotations_dict"
   ]
  },
  {
   "cell_type": "code",
   "execution_count": 135,
   "metadata": {},
   "outputs": [
    {
     "data": {
      "text/plain": [
       "{'seizure': [[1, 2], [5, 6], [5, 7], [4, 5.6], [7, 9]]}"
      ]
     },
     "execution_count": 135,
     "metadata": {},
     "output_type": "execute_result"
    }
   ],
   "source": [
    "a"
   ]
  },
  {
   "cell_type": "code",
   "execution_count": 136,
   "metadata": {},
   "outputs": [],
   "source": [
    "a.delete_annotation('seizure',1)"
   ]
  },
  {
   "cell_type": "code",
   "execution_count": 137,
   "metadata": {},
   "outputs": [
    {
     "data": {
      "text/plain": [
       "[2, 7, 5.6, 9]"
      ]
     },
     "execution_count": 137,
     "metadata": {},
     "output_type": "execute_result"
    }
   ],
   "source": [
    "a.get_all_end_times('seizure')"
   ]
  },
  {
   "cell_type": "code",
   "execution_count": 138,
   "metadata": {},
   "outputs": [],
   "source": [
    "a.export_to_json('annotations_test.ano')"
   ]
  },
  {
   "cell_type": "code",
   "execution_count": 139,
   "metadata": {},
   "outputs": [],
   "source": [
    "b = Annotations(fname='annotations_test.ano')"
   ]
  },
  {
   "cell_type": "code",
   "execution_count": 140,
   "metadata": {},
   "outputs": [
    {
     "data": {
      "text/plain": [
       "{'seizure': [[1, 2], [5, 7], [4, 5.6], [7, 9]]}"
      ]
     },
     "execution_count": 140,
     "metadata": {},
     "output_type": "execute_result"
    }
   ],
   "source": [
    "b.annotations_dict"
   ]
  },
  {
   "cell_type": "code",
   "execution_count": 141,
   "metadata": {},
   "outputs": [
    {
     "data": {
      "text/plain": [
       "{'seizure': [[1, 2], [5, 7], [4, 5.6], [7, 9]]}"
      ]
     },
     "execution_count": 141,
     "metadata": {},
     "output_type": "execute_result"
    }
   ],
   "source": [
    "a"
   ]
  },
  {
   "cell_type": "code",
   "execution_count": 142,
   "metadata": {},
   "outputs": [],
   "source": [
    "a.export_to_csv('annotations_test.csv','seizure')"
   ]
  },
  {
   "cell_type": "code",
   "execution_count": 8,
   "metadata": {},
   "outputs": [
    {
     "data": {
      "text/plain": [
       "9"
      ]
     },
     "execution_count": 8,
     "metadata": {},
     "output_type": "execute_result"
    }
   ],
   "source": [
    "sum([4,5])"
   ]
  },
  {
   "cell_type": "code",
   "execution_count": 20,
   "metadata": {},
   "outputs": [
    {
     "data": {
      "text/plain": [
       "43200000"
      ]
     },
     "execution_count": 20,
     "metadata": {},
     "output_type": "execute_result"
    }
   ],
   "source": [
    "3600*500*3*8"
   ]
  },
  {
   "cell_type": "code",
   "execution_count": 21,
   "metadata": {},
   "outputs": [],
   "source": [
    "import colorsys"
   ]
  },
  {
   "cell_type": "code",
   "execution_count": 30,
   "metadata": {},
   "outputs": [
    {
     "ename": "NameError",
     "evalue": "name 'array' is not defined",
     "output_type": "error",
     "traceback": [
      "\u001b[0;31m---------------------------------------------------------------------------\u001b[0m",
      "\u001b[0;31mNameError\u001b[0m                                 Traceback (most recent call last)",
      "\u001b[0;32m<ipython-input-30-90852eb665fd>\u001b[0m in \u001b[0;36m<module>\u001b[0;34m\u001b[0m\n\u001b[0;32m----> 1\u001b[0;31m \u001b[0mc\u001b[0m \u001b[0;34m=\u001b[0m\u001b[0marray\u001b[0m\u001b[0;34m(\u001b[0m\u001b[0mcolorsys\u001b[0m\u001b[0;34m.\u001b[0m\u001b[0mhls_to_rgb\u001b[0m\u001b[0;34m(\u001b[0m\u001b[0;36m0\u001b[0m\u001b[0;34m,\u001b[0m \u001b[0;36m.5\u001b[0m\u001b[0;34m,\u001b[0m \u001b[0;36m.9\u001b[0m\u001b[0;34m)\u001b[0m\u001b[0;34m)\u001b[0m\u001b[0;34m*\u001b[0m\u001b[0;36m255\u001b[0m\u001b[0;34m\u001b[0m\u001b[0;34m\u001b[0m\u001b[0m\n\u001b[0m",
      "\u001b[0;31mNameError\u001b[0m: name 'array' is not defined"
     ]
    }
   ],
   "source": [
    "c =array(colorsys.hls_to_rgb(0, .5, .9))*255"
   ]
  },
  {
   "cell_type": "code",
   "execution_count": 5,
   "metadata": {},
   "outputs": [
    {
     "data": {
      "text/plain": [
       "'{\"element\": {\"element2\": 0}}'"
      ]
     },
     "execution_count": 5,
     "metadata": {},
     "output_type": "execute_result"
    }
   ],
   "source": []
  },
  {
   "cell_type": "code",
   "execution_count": 6,
   "metadata": {},
   "outputs": [],
   "source": [
    "d = {'element':{'element2':0}}"
   ]
  },
  {
   "cell_type": "code",
   "execution_count": 8,
   "metadata": {},
   "outputs": [
    {
     "data": {
      "text/plain": [
       "'[{\"element\": {\"element2\": 0}}]'"
      ]
     },
     "execution_count": 8,
     "metadata": {},
     "output_type": "execute_result"
    }
   ],
   "source": []
  },
  {
   "cell_type": "code",
   "execution_count": 9,
   "metadata": {},
   "outputs": [],
   "source": [
    "a = json.loads(json.dumps([d]))"
   ]
  },
  {
   "cell_type": "code",
   "execution_count": 10,
   "metadata": {},
   "outputs": [
    {
     "data": {
      "text/plain": [
       "[{'element': {'element2': 0}}]"
      ]
     },
     "execution_count": 10,
     "metadata": {},
     "output_type": "execute_result"
    }
   ],
   "source": [
    "a"
   ]
  },
  {
   "cell_type": "code",
   "execution_count": 13,
   "metadata": {},
   "outputs": [
    {
     "data": {
      "text/plain": [
       "[1, 2]"
      ]
     },
     "execution_count": 13,
     "metadata": {},
     "output_type": "execute_result"
    }
   ],
   "source": [
    "list(set([1,1,2]))"
   ]
  },
  {
   "cell_type": "code",
   "execution_count": 34,
   "metadata": {},
   "outputs": [],
   "source": [
    "a = set(['test','test2'])"
   ]
  },
  {
   "cell_type": "code",
   "execution_count": 26,
   "metadata": {},
   "outputs": [
    {
     "data": {
      "text/plain": [
       "{-9, 1, 2}"
      ]
     },
     "execution_count": 26,
     "metadata": {},
     "output_type": "execute_result"
    }
   ],
   "source": []
  },
  {
   "cell_type": "code",
   "execution_count": 28,
   "metadata": {},
   "outputs": [],
   "source": []
  },
  {
   "cell_type": "code",
   "execution_count": 29,
   "metadata": {},
   "outputs": [
    {
     "data": {
      "text/plain": [
       "{-9, 1, 2, 4}"
      ]
     },
     "execution_count": 29,
     "metadata": {},
     "output_type": "execute_result"
    }
   ],
   "source": [
    "a"
   ]
  },
  {
   "cell_type": "code",
   "execution_count": 85,
   "metadata": {},
   "outputs": [],
   "source": [
    "class foo:\n",
    "    def __init__(self,i):\n",
    "        self.i = i\n",
    "    def __del__(self):\n",
    "        print(str(self.i) + ' died')\n",
    "    def __delete__(self):\n",
    "        print(str(self.i) + ' died too')"
   ]
  },
  {
   "cell_type": "code",
   "execution_count": 110,
   "metadata": {},
   "outputs": [],
   "source": [
    "a = [foo(1),foo(2),foo(3)]"
   ]
  },
  {
   "cell_type": "code",
   "execution_count": 111,
   "metadata": {},
   "outputs": [
    {
     "data": {
      "text/plain": [
       "<__main__.foo at 0x7f0b73c804d0>"
      ]
     },
     "execution_count": 111,
     "metadata": {},
     "output_type": "execute_result"
    }
   ],
   "source": [
    "a[0]"
   ]
  },
  {
   "cell_type": "code",
   "execution_count": 112,
   "metadata": {},
   "outputs": [
    {
     "data": {
      "text/plain": [
       "[<__main__.foo at 0x7f0b73c804d0>,\n",
       " <__main__.foo at 0x7f0b73c80510>,\n",
       " <__main__.foo at 0x7f0b73c80550>]"
      ]
     },
     "execution_count": 112,
     "metadata": {},
     "output_type": "execute_result"
    }
   ],
   "source": [
    "a"
   ]
  },
  {
   "cell_type": "code",
   "execution_count": 115,
   "metadata": {},
   "outputs": [
    {
     "ename": "TypeError",
     "evalue": "list indices must be integers or slices, not list",
     "output_type": "error",
     "traceback": [
      "\u001b[0;31m---------------------------------------------------------------------------\u001b[0m",
      "\u001b[0;31mTypeError\u001b[0m                                 Traceback (most recent call last)",
      "\u001b[0;32m<ipython-input-115-504ea7a8c897>\u001b[0m in \u001b[0;36m<module>\u001b[0;34m\u001b[0m\n\u001b[0;32m----> 1\u001b[0;31m \u001b[0ma\u001b[0m\u001b[0;34m[\u001b[0m\u001b[0;34m[\u001b[0m\u001b[0;36m1\u001b[0m\u001b[0;34m,\u001b[0m\u001b[0;36m3\u001b[0m\u001b[0;34m]\u001b[0m\u001b[0;34m]\u001b[0m\u001b[0;34m\u001b[0m\u001b[0;34m\u001b[0m\u001b[0m\n\u001b[0m",
      "\u001b[0;31mTypeError\u001b[0m: list indices must be integers or slices, not list"
     ]
    }
   ],
   "source": []
  },
  {
   "cell_type": "code",
   "execution_count": 88,
   "metadata": {},
   "outputs": [],
   "source": [
    "for i in a:\n",
    "    del(i)"
   ]
  },
  {
   "cell_type": "code",
   "execution_count": 89,
   "metadata": {},
   "outputs": [
    {
     "data": {
      "text/plain": [
       "[<__main__.foo at 0x7f0b7f536150>, <__main__.foo at 0x7f0b8c949d90>]"
      ]
     },
     "execution_count": 89,
     "metadata": {},
     "output_type": "execute_result"
    }
   ],
   "source": [
    "a"
   ]
  },
  {
   "cell_type": "code",
   "execution_count": 95,
   "metadata": {},
   "outputs": [
    {
     "data": {
      "text/plain": [
       "[<__main__.foo at 0x7f0b7f536150>]"
      ]
     },
     "execution_count": 95,
     "metadata": {},
     "output_type": "execute_result"
    }
   ],
   "source": [
    "list(b)"
   ]
  },
  {
   "cell_type": "code",
   "execution_count": 73,
   "metadata": {},
   "outputs": [
    {
     "data": {
      "text/plain": [
       "[<__main__.foo at 0x7f0b7f4aea90>]"
      ]
     },
     "execution_count": 73,
     "metadata": {},
     "output_type": "execute_result"
    }
   ],
   "source": [
    "b"
   ]
  },
  {
   "cell_type": "code",
   "execution_count": 107,
   "metadata": {},
   "outputs": [],
   "source": [
    "a = set(['test','test2'])"
   ]
  },
  {
   "cell_type": "code",
   "execution_count": 108,
   "metadata": {},
   "outputs": [
    {
     "data": {
      "text/plain": [
       "['test', 'test2']"
      ]
     },
     "execution_count": 108,
     "metadata": {},
     "output_type": "execute_result"
    }
   ],
   "source": [
    "[s for s in a]"
   ]
  },
  {
   "cell_type": "code",
   "execution_count": 223,
   "metadata": {},
   "outputs": [],
   "source": [
    "b = [1,3,4,2,3]"
   ]
  },
  {
   "cell_type": "code",
   "execution_count": 224,
   "metadata": {},
   "outputs": [
    {
     "name": "stdout",
     "output_type": "stream",
     "text": [
      "1 3\n",
      "3 3\n"
     ]
    }
   ],
   "source": [
    "for i,e in enumerate(b):\n",
    "    if e==3:\n",
    "        del(b[i])\n",
    "        print(i,e)"
   ]
  },
  {
   "cell_type": "code",
   "execution_count": 23,
   "metadata": {},
   "outputs": [],
   "source": [
    "import json\n",
    "from PyQt5 import QtCore\n",
    "from PyQt5.QtCore import QObject\n",
    "import numpy as np\n",
    "import colorsys\n",
    "from collections import OrderedDict\n",
    "\n",
    "class AnnotationElement(QObject):\n",
    "    sigAnnotationElementChanged = QtCore.pyqtSignal(object) # emited when any attribute is changed\n",
    "    sigAnnotationElementDeleted = QtCore.pyqtSignal(object) # emited when all references to annotation are deleted\n",
    "    def __init__(self, dictionary=None, label='', start=0, end=0, confidence=1, notes=''):\n",
    "        super().__init__()\n",
    "        if dictionary is not None:\n",
    "            header = ['label', 'start', 'end', 'confidence', 'notes']\n",
    "            self.element_dict = OrderedDict(sorted(dictionary.items(), key=lambda l: header.index(l[0])))\n",
    "        else:\n",
    "            # self.element_dict = {'label': label,\n",
    "            #                      'start': start,\n",
    "            #                      'end': end,\n",
    "            #                      'confidence': confidence,\n",
    "            #                      'notes': notes}  # To be used by classifier predictions\n",
    "            self.element_dict = OrderedDict([('label', label),\n",
    "                                             ('start', float(start)),\n",
    "                                             ('end', float(end)),\n",
    "                                             ('confidence', float(confidence)),\n",
    "                                             ('notes', notes)])  # To be used by classifier predictions\n",
    "\n",
    "    def getKey(self,key):\n",
    "        return self.element_dict[key]\n",
    "\n",
    "    def setKey(self,key,value):\n",
    "        self.element_dict[key] = value\n",
    "        self.sigAnnotationElementChanged.emit(self)\n",
    "\n",
    "    def getLabel(self):\n",
    "        return self.element_dict['label']\n",
    "\n",
    "    def setLabel(self, start):\n",
    "        self.element_dict['label'] = start\n",
    "        self.sigAnnotationElementChanged.emit(self)\n",
    "\n",
    "    def getStart(self):\n",
    "        return self.element_dict['start']\n",
    "\n",
    "    def setStart(self, start):\n",
    "        self.element_dict['start'] = start\n",
    "        self.sigAnnotationElementChanged.emit(self)\n",
    "\n",
    "    def getEnd(self):\n",
    "        return self.element_dict['end']\n",
    "\n",
    "    def setEnd(self, end):\n",
    "        self.element_dict['end'] = end\n",
    "        self.sigAnnotationElementChanged.emit(self)\n",
    "\n",
    "    def getPos(self):\n",
    "        return [self.element_dict['start'], self.element_dict['end']]\n",
    "\n",
    "    def setPos(self, pos):\n",
    "        self.element_dict['start'] = min(pos)\n",
    "        self.element_dict['end'] = max(pos)\n",
    "        self.sigAnnotationElementChanged.emit(self)\n",
    "\n",
    "    def getNotes(self):\n",
    "        return self.element_dict['notes']\n",
    "\n",
    "    def setNotes(self, notes):\n",
    "        self.element_dict['notes'] = notes\n",
    "        self.sigAnnotationElementChanged.emit(self)\n",
    "\n",
    "    def getConfidence(self):\n",
    "        return self.element_dict['confidence']\n",
    "\n",
    "    def setConfidence(self, confidence):\n",
    "        self.element_dict['confidence'] = confidence\n",
    "        self.sigAnnotationElementChanged.emit(self)\n",
    "\n",
    "    def delete(self):\n",
    "        self.sigAnnotationElementDeleted.emit(self)\n",
    "\n",
    "    # def __del__(self):\n",
    "    #      self.sigAnnotationElementDeleted.emit(self)\n",
    "\n",
    "    def __repr__(self):\n",
    "        return repr(dict(self.element_dict))\n",
    "\n",
    "    def __str__(self):\n",
    "        return str(dict(self.element_dict))\n",
    "\n",
    "class AnnotationPage(QObject):\n",
    "    sigFocusOnAnnotation = QtCore.pyqtSignal(object)\n",
    "    sigAnnotationAdded = QtCore.pyqtSignal(object)\n",
    "\n",
    "    def __init__(self, alist=None, fname=None):\n",
    "        super().__init__()\n",
    "        if list is not None and self.checklist(alist):\n",
    "            self.annotations_list = alist\n",
    "            self.labels = list(set([annotation.getLabel() for annotation in alist]))\n",
    "            self.label_color_dict = {}\n",
    "            n = max(len(self.labels),6)  # make space for at least 6 colors, or space all colors equally\n",
    "            for i,label in enumerate(self.labels):\n",
    "                self.label_color_dict[label] = tuple(np.array(colorsys.hls_to_rgb(i / n, .5, .9)) * 255)\n",
    "\n",
    "        elif fname is not None:\n",
    "            self.import_from_json(fname)\n",
    "        else:\n",
    "            self.annotations_list = []\n",
    "            self.labels = []\n",
    "            self.label_color_dict = {}  # dictionary to save label plotting colors\n",
    "        self.focused_annotation = None\n",
    "\n",
    "    def focusOnAnnotation(self, annotation):\n",
    "        if annotation != self.focused_annotation:\n",
    "            self.focused_annotation = annotation\n",
    "            print('focused on', annotation)\n",
    "            self.sigFocusOnAnnotation.emit(annotation)\n",
    "\n",
    "    @staticmethod\n",
    "    def checklist(alist):  # try to check if dictionary structure is valid\n",
    "        if type(alist) is not list:\n",
    "            print('Annotations: invalid type for annotations list')\n",
    "            return False\n",
    "        # Now check that all elements are of type AnnotationElement\n",
    "        if not all([isinstance(annotation, AnnotationElement) for annotation in alist]):\n",
    "            print('Annotations: invalid type for annotations list elements')\n",
    "            return False\n",
    "        return True\n",
    "\n",
    "    def add_annotation(self, annotation):\n",
    "        self.annotations_list.append(annotation)\n",
    "        self.add_label(annotation.getLabel())\n",
    "        self.sigAnnotationAdded.emit(annotation)\n",
    "\n",
    "    def delete_annotation(self, annotation):\n",
    "        if type(annotation) is not int:\n",
    "            index = self.get_annotation_index(annotation)\n",
    "        else:\n",
    "            index = annotation # allow for annotation to be the index\n",
    "            \n",
    "        try:\n",
    "            self.annotations_list[index].delete() # send signal we are deleting annotation\n",
    "            del self.annotations_list[index]\n",
    "        except IndexError:\n",
    "            print('Annotation index is out of range')\n",
    "\n",
    "    def get_annotation_index(self, annotation):\n",
    "        for i in range(len(self.annotations_list)):\n",
    "            if self.annotations_list[i] == annotation:\n",
    "                return i\n",
    "\n",
    "    def get_all_with_label(self, label):\n",
    "        result = []\n",
    "        for i, a in enumerate(self.annotations_list):\n",
    "            if a.getLabel() == label:\n",
    "                result.append(a)\n",
    "        return result\n",
    "\n",
    "    def delete_all_with_label(self, label):\n",
    "        for i, a in reversed(list(enumerate(self.annotations_list))):\n",
    "            if a.getLabel() == label:\n",
    "                self.delete_annotation(i)\n",
    "\n",
    "    def add_label(self, label):\n",
    "        if label not in self.labels:\n",
    "            self.labels = self.labels.append(label) # for future if labels can have global propreties... probably will never be used\n",
    "            if label not in self.label_color_dict.keys():\n",
    "                n = len(self.labels)\n",
    "                if n <= 6:\n",
    "                    h = n/6\n",
    "                else:\n",
    "                    floorlog = np.floor(np.log(n)/np.log(6))\n",
    "                    h = 1/(6**floorlog) * ((n - 6**floorlog)*2 + 1)\n",
    "                self.label_color_dict[label] = tuple(np.array(colorsys.hls_to_rgb(h, .5, .9)) * 255)\n",
    "        else:\n",
    "            print('Annotations: Label already exists')\n",
    "\n",
    "    def export_to_json(self, fname):\n",
    "        # convert annotation objects into dictionaries\n",
    "        full_dict = [json.loads(repr(a).replace('\\'','\\\"')) for a in self.annotations_list]\n",
    "        with open(fname, 'w') as f:\n",
    "            json.dump([full_dict,list(self.labels),self.label_color_dict], f)\n",
    "\n",
    "    def import_from_json(self, fname):\n",
    "        with open(fname, 'r') as f:\n",
    "            object_list = json.load(f)\n",
    "        full_dict = object_list[0]\n",
    "        # convert dictionaries into annotation objects\n",
    "        self.annotations_list = [AnnotationElement(dictionary=a) for a in full_dict]\n",
    "        self.labels = set(object_list[1])\n",
    "        self.label_color_dict = object_list[2]\n",
    "\n",
    "    def export_to_csv(self, fname, label):\n",
    "        with open(fname, 'w') as f:\n",
    "            f.write(label + ',' + 'start,stop\\n')\n",
    "            for i, a in enumerate(self.annotations_list):\n",
    "                if a.getLabel() == label:\n",
    "                    f.write(str(i) + ',' + str(a.getStart()) + ',' + str(a.getEnd()) + '\\n')\n",
    "\n",
    "    def __repr__(self):\n",
    "        return repr([json.loads(repr(a).replace('\\'','\\\"')) for a in self.annotations_list])\n",
    "\n",
    "    def __str__(self):\n",
    "        return str([json.loads(repr(a).replace('\\'','\\\"')) for a in self.annotations_list])\n",
    "\n",
    "\n"
   ]
  },
  {
   "cell_type": "code",
   "execution_count": 24,
   "metadata": {},
   "outputs": [],
   "source": [
    "annotations = AnnotationPage(alist=[AnnotationElement(label='seizure',start=1,end=10),\n",
    "                                   AnnotationElement(label='seizure',start=14,end=22),\n",
    "                                   AnnotationElement(label='spike',start=23,end=25),\n",
    "                                  ])"
   ]
  },
  {
   "cell_type": "code",
   "execution_count": 26,
   "metadata": {},
   "outputs": [],
   "source": [
    "annotations.delete_annotation(annotations.annotations_list[2])"
   ]
  },
  {
   "cell_type": "code",
   "execution_count": 27,
   "metadata": {},
   "outputs": [
    {
     "data": {
      "text/plain": [
       "[{'confidence': 1.0, 'end': 10.0, 'start': 1.0, 'label': 'seizure', 'notes': ''}, {'confidence': 1.0, 'end': 22.0, 'start': 14.0, 'label': 'seizure', 'notes': ''}]"
      ]
     },
     "execution_count": 27,
     "metadata": {},
     "output_type": "execute_result"
    }
   ],
   "source": [
    "annotations"
   ]
  },
  {
   "cell_type": "code",
   "execution_count": 6,
   "metadata": {},
   "outputs": [],
   "source": [
    "s = repr(annotations.annotations_list[0])"
   ]
  },
  {
   "cell_type": "code",
   "execution_count": 7,
   "metadata": {},
   "outputs": [
    {
     "data": {
      "text/plain": [
       "\"{'start': 1, 'label': 'seizure', 'notes': '', 'confidence': 1, 'end': 10}\""
      ]
     },
     "execution_count": 7,
     "metadata": {},
     "output_type": "execute_result"
    }
   ],
   "source": [
    "repr(AnnotationElement(label='seizure',start=1,end=10))"
   ]
  },
  {
   "cell_type": "code",
   "execution_count": 8,
   "metadata": {},
   "outputs": [],
   "source": [
    "annotations.export_to_json('test.txt')"
   ]
  },
  {
   "cell_type": "code",
   "execution_count": 9,
   "metadata": {},
   "outputs": [],
   "source": [
    "a = AnnotationPage(fname='test.txt')"
   ]
  },
  {
   "cell_type": "code",
   "execution_count": 10,
   "metadata": {},
   "outputs": [
    {
     "data": {
      "text/plain": [
       "{'start': 1, 'label': 'seizure', 'notes': '', 'confidence': 1, 'end': 10}"
      ]
     },
     "execution_count": 10,
     "metadata": {},
     "output_type": "execute_result"
    }
   ],
   "source": [
    "a.annotations_list[0]"
   ]
  },
  {
   "cell_type": "code",
   "execution_count": 11,
   "metadata": {},
   "outputs": [],
   "source": [
    "a.delete_all_with_label('spike')"
   ]
  },
  {
   "cell_type": "code",
   "execution_count": 39,
   "metadata": {},
   "outputs": [
    {
     "data": {
      "text/plain": [
       "'seizure'"
      ]
     },
     "execution_count": 39,
     "metadata": {},
     "output_type": "execute_result"
    }
   ],
   "source": [
    "a.annotations_list[0].getLabel()"
   ]
  },
  {
   "cell_type": "code",
   "execution_count": 40,
   "metadata": {},
   "outputs": [
    {
     "data": {
      "text/plain": [
       "{'seizure': [242.25, 12.75000000000001, 12.75000000000001],\n",
       " 'spike': [242.24999999999994, 242.25, 12.75000000000001]}"
      ]
     },
     "execution_count": 40,
     "metadata": {},
     "output_type": "execute_result"
    }
   ],
   "source": [
    "a.label_color_dict"
   ]
  },
  {
   "cell_type": "code",
   "execution_count": 60,
   "metadata": {},
   "outputs": [],
   "source": [
    "data = [annotation.element_dict for annotation in annotations.annotations_list]"
   ]
  },
  {
   "cell_type": "code",
   "execution_count": 62,
   "metadata": {},
   "outputs": [],
   "source": [
    "data[0]['label']='spike'"
   ]
  },
  {
   "cell_type": "code",
   "execution_count": 67,
   "metadata": {},
   "outputs": [
    {
     "name": "stdout",
     "output_type": "stream",
     "text": [
      "[OrderedDict([('label', 'spike'), ('start', 1), ('end', 10), ('confidence', 1), ('notes', '')]), OrderedDict([('label', 'seizure'), ('start', 14), ('end', 22), ('confidence', 1), ('notes', '')]), OrderedDict([('label', 'spike'), ('start', 23), ('end', 25), ('confidence', 1), ('notes', '')])]\n",
      "[{'notes': '', 'start': 1, 'end': 10, 'confidence': 1, 'label': 'spike'}, {'notes': '', 'start': 14, 'end': 22, 'confidence': 1, 'label': 'seizure'}, {'notes': '', 'start': 23, 'end': 25, 'confidence': 1, 'label': 'spike'}]\n"
     ]
    }
   ],
   "source": [
    "print(data)\n",
    "print(annotations)"
   ]
  },
  {
   "cell_type": "code",
   "execution_count": 288,
   "metadata": {},
   "outputs": [],
   "source": [
    "a.get_all_with_label('seizure')[0].setStart(22)"
   ]
  },
  {
   "cell_type": "code",
   "execution_count": 289,
   "metadata": {},
   "outputs": [
    {
     "data": {
      "text/plain": [
       "[{'label': 'seizure', 'start': 22, 'end': 10, 'notes': '', 'confidence': 1}, {'label': 'seizure', 'start': 14, 'end': 22, 'notes': '', 'confidence': 1}]"
      ]
     },
     "execution_count": 289,
     "metadata": {},
     "output_type": "execute_result"
    }
   ],
   "source": [
    "a"
   ]
  },
  {
   "cell_type": "code",
   "execution_count": 1,
   "metadata": {},
   "outputs": [],
   "source": [
    "asset = set(['a','b','a','c'])"
   ]
  },
  {
   "cell_type": "code",
   "execution_count": 7,
   "metadata": {},
   "outputs": [
    {
     "data": {
      "text/plain": [
       "{'a', 'b', 'c'}"
      ]
     },
     "execution_count": 7,
     "metadata": {},
     "output_type": "execute_result"
    }
   ],
   "source": [
    "asset"
   ]
  },
  {
   "cell_type": "code",
   "execution_count": 11,
   "metadata": {},
   "outputs": [],
   "source": [
    "col_d = {}"
   ]
  },
  {
   "cell_type": "code",
   "execution_count": 12,
   "metadata": {},
   "outputs": [
    {
     "name": "stdout",
     "output_type": "stream",
     "text": [
      "0 a\n",
      "1 c\n",
      "2 b\n"
     ]
    }
   ],
   "source": [
    "for i,item in enumerate(asset):\n",
    "    col_d[item] = 0\n",
    "    print(i,item)"
   ]
  },
  {
   "cell_type": "code",
   "execution_count": 13,
   "metadata": {},
   "outputs": [
    {
     "data": {
      "text/plain": [
       "{'a': 0, 'c': 0, 'b': 0}"
      ]
     },
     "execution_count": 13,
     "metadata": {},
     "output_type": "execute_result"
    }
   ],
   "source": [
    "col_d"
   ]
  },
  {
   "cell_type": "code",
   "execution_count": 22,
   "metadata": {},
   "outputs": [
    {
     "data": {
      "text/plain": [
       "'[\"a\", \"c\", \"b\"]'"
      ]
     },
     "execution_count": 22,
     "metadata": {},
     "output_type": "execute_result"
    }
   ],
   "source": [
    "json.dumps(list(asset))"
   ]
  },
  {
   "cell_type": "code",
   "execution_count": 2,
   "metadata": {},
   "outputs": [],
   "source": [
    "import pyqtgraph.examples"
   ]
  },
  {
   "cell_type": "code",
   "execution_count": 3,
   "metadata": {},
   "outputs": [],
   "source": [
    "pyqtgraph.examples.run() # check TableWidget, ColorButton and parameter tree"
   ]
  },
  {
   "cell_type": "code",
   "execution_count": 3,
   "metadata": {},
   "outputs": [
    {
     "ename": "SystemExit",
     "evalue": "0",
     "output_type": "error",
     "traceback": [
      "An exception has occurred, use %tb to see the full traceback.\n",
      "\u001b[0;31mSystemExit\u001b[0m\u001b[0;31m:\u001b[0m 0\n"
     ]
    },
    {
     "name": "stderr",
     "output_type": "stream",
     "text": [
      "/home/mfpleite/anaconda3/envs/pyecog_env/lib/python3.5/site-packages/IPython/core/interactiveshell.py:2969: UserWarning: To exit: use 'exit', 'quit', or Ctrl-D.\n",
      "  warn(\"To exit: use 'exit', 'quit', or Ctrl-D.\", stacklevel=1)\n"
     ]
    }
   ],
   "source": [
    "import sys\n",
    "from PyQt5.QtWidgets import QMainWindow, QApplication, QWidget, QAction, QTableWidget, QTableWidgetItem, QVBoxLayout\n",
    "from PyQt5.QtGui import QIcon\n",
    "from PyQt5.QtCore import pyqtSlot\n",
    "\n",
    "\n",
    "class App(QWidget):\n",
    "\n",
    "    def __init__(self):\n",
    "        super().__init__()\n",
    "        self.title = 'PyQt5 table - pythonspot.com'\n",
    "        self.left = 0\n",
    "        self.top = 0\n",
    "        self.width = 300\n",
    "        self.height = 200\n",
    "        self.initUI()\n",
    "\n",
    "    def initUI(self):\n",
    "        self.setWindowTitle(self.title)\n",
    "        self.setGeometry(self.left, self.top, self.width, self.height)\n",
    "\n",
    "        self.createTable()\n",
    "\n",
    "        # Add box layout, add table to box layout and add box layout to widget\n",
    "        self.layout = QVBoxLayout()\n",
    "        self.layout.addWidget(self.tableWidget)\n",
    "        self.setLayout(self.layout)\n",
    "\n",
    "        # Show widget\n",
    "        self.show()\n",
    "\n",
    "    def createTable(self):\n",
    "        # Create table\n",
    "        self.tableWidget = QTableWidget()\n",
    "        self.tableWidget.setRowCount(4)\n",
    "        self.tableWidget.setColumnCount(2)\n",
    "        self.tableWidget.setItem(0, 0, QTableWidgetItem(\"Cell (1,1)\"))\n",
    "        self.tableWidget.setItem(0, 1, QTableWidgetItem(\"Cell (1,2)\"))\n",
    "        self.tableWidget.setItem(1, 0, QTableWidgetItem(\"Cell (2,1)\"))\n",
    "        self.tableWidget.setItem(1, 1, QTableWidgetItem(\"Cell (2,2)\"))\n",
    "        self.tableWidget.setItem(2, 0, QTableWidgetItem(\"Cell (3,1)\"))\n",
    "        self.tableWidget.setItem(2, 1, QTableWidgetItem(\"Cell (3,2)\"))\n",
    "        self.tableWidget.setItem(3, 0, QTableWidgetItem(\"Cell (4,1)\"))\n",
    "        self.tableWidget.setItem(3, 1, QTableWidgetItem(\"Cell (4,2)\"))\n",
    "        self.tableWidget.move(0, 0)\n",
    "\n",
    "        # table selection change\n",
    "        self.tableWidget.doubleClicked.connect(self.on_click)\n",
    "\n",
    "    @pyqtSlot()\n",
    "    def on_click(self):\n",
    "        print(\"\\n\")\n",
    "        for currentQTableWidgetItem in self.tableWidget.selectedItems():\n",
    "            print(currentQTableWidgetItem.row(), currentQTableWidgetItem.column(), currentQTableWidgetItem.text())\n",
    "\n",
    "\n",
    "if __name__ == '__main__':\n",
    "    app = QApplication(sys.argv)\n",
    "    ex = App()\n",
    "    sys.exit(app.exec_())  "
   ]
  },
  {
   "cell_type": "code",
   "execution_count": 1,
   "metadata": {},
   "outputs": [],
   "source": [
    "from collections import OrderedDict"
   ]
  },
  {
   "cell_type": "code",
   "execution_count": 2,
   "metadata": {},
   "outputs": [
    {
     "ename": "NameError",
     "evalue": "name 'annotations' is not defined",
     "output_type": "error",
     "traceback": [
      "\u001b[0;31m---------------------------------------------------------------------------\u001b[0m",
      "\u001b[0;31mNameError\u001b[0m                                 Traceback (most recent call last)",
      "\u001b[0;32m<ipython-input-2-35ac9632602c>\u001b[0m in \u001b[0;36m<module>\u001b[0;34m()\u001b[0m\n\u001b[0;32m----> 1\u001b[0;31m \u001b[0ma\u001b[0m \u001b[0;34m=\u001b[0m \u001b[0mOrderedDict\u001b[0m\u001b[0;34m(\u001b[0m\u001b[0mannotations\u001b[0m\u001b[0;34m.\u001b[0m\u001b[0mannotations_list\u001b[0m\u001b[0;34m[\u001b[0m\u001b[0;36m0\u001b[0m\u001b[0;34m]\u001b[0m\u001b[0;34m.\u001b[0m\u001b[0melement_dict\u001b[0m\u001b[0;34m)\u001b[0m\u001b[0;34m\u001b[0m\u001b[0m\n\u001b[0m",
      "\u001b[0;31mNameError\u001b[0m: name 'annotations' is not defined"
     ]
    }
   ],
   "source": [
    "a = OrderedDict(annotations.annotations_list[0].element_dict)"
   ]
  },
  {
   "cell_type": "code",
   "execution_count": 18,
   "metadata": {},
   "outputs": [
    {
     "data": {
      "text/plain": [
       "{'confidence': 1, 'end': 10, 'label': 'seizure', 'notes': '', 'start': 1}"
      ]
     },
     "execution_count": 18,
     "metadata": {},
     "output_type": "execute_result"
    }
   ],
   "source": [
    "dict(a)"
   ]
  },
  {
   "cell_type": "code",
   "execution_count": 19,
   "metadata": {},
   "outputs": [],
   "source": [
    "b = dict(a)"
   ]
  },
  {
   "cell_type": "code",
   "execution_count": 42,
   "metadata": {},
   "outputs": [
    {
     "data": {
      "text/plain": [
       "OrderedDict([('label', 'seizure'),\n",
       "             ('start', 1),\n",
       "             ('end', 10),\n",
       "             ('confidence', 1),\n",
       "             ('notes', '')])"
      ]
     },
     "execution_count": 42,
     "metadata": {},
     "output_type": "execute_result"
    }
   ],
   "source": [
    "OrderedDict(sorted(b.items(),key=lambda x: ['label','start','end','confidence','notes'].index(x[0])))"
   ]
  },
  {
   "cell_type": "code",
   "execution_count": 6,
   "metadata": {},
   "outputs": [],
   "source": [
    "from PyQt5 import QtGui, QtWidgets"
   ]
  },
  {
   "cell_type": "code",
   "execution_count": null,
   "metadata": {},
   "outputs": [],
   "source": [
    "QtWidgets.QF"
   ]
  },
  {
   "cell_type": "code",
   "execution_count": 20,
   "metadata": {},
   "outputs": [
    {
     "data": {
      "text/plain": [
       "['seizure', 1, 10, 1, '']"
      ]
     },
     "execution_count": 20,
     "metadata": {},
     "output_type": "execute_result"
    }
   ],
   "source": []
  },
  {
   "cell_type": "code",
   "execution_count": 23,
   "metadata": {},
   "outputs": [],
   "source": [
    "b = a.annotations_list[0].getStart()"
   ]
  },
  {
   "cell_type": "code",
   "execution_count": 24,
   "metadata": {},
   "outputs": [
    {
     "data": {
      "text/plain": [
       "1"
      ]
     },
     "execution_count": 24,
     "metadata": {},
     "output_type": "execute_result"
    }
   ],
   "source": [
    "b"
   ]
  },
  {
   "cell_type": "code",
   "execution_count": 25,
   "metadata": {},
   "outputs": [],
   "source": [
    "a.annotations_list[0].setStart(2)"
   ]
  },
  {
   "cell_type": "code",
   "execution_count": 26,
   "metadata": {},
   "outputs": [
    {
     "data": {
      "text/plain": [
       "[{'start': 2, 'label': 'seizure', 'notes': '', 'confidence': 1, 'end': 10}, {'start': 14, 'label': 'seizure', 'notes': '', 'confidence': 1, 'end': 22}]"
      ]
     },
     "execution_count": 26,
     "metadata": {},
     "output_type": "execute_result"
    }
   ],
   "source": [
    "a"
   ]
  },
  {
   "cell_type": "code",
   "execution_count": 27,
   "metadata": {},
   "outputs": [
    {
     "data": {
      "text/plain": [
       "1"
      ]
     },
     "execution_count": 27,
     "metadata": {},
     "output_type": "execute_result"
    }
   ],
   "source": [
    "b"
   ]
  },
  {
   "cell_type": "code",
   "execution_count": 32,
   "metadata": {},
   "outputs": [
    {
     "data": {
      "text/plain": [
       "3"
      ]
     },
     "execution_count": 32,
     "metadata": {},
     "output_type": "execute_result"
    }
   ],
   "source": [
    "7&3"
   ]
  },
  {
   "cell_type": "code",
   "execution_count": 30,
   "metadata": {},
   "outputs": [],
   "source": [
    "a = set([2,5,3])"
   ]
  },
  {
   "cell_type": "code",
   "execution_count": 29,
   "metadata": {},
   "outputs": [
    {
     "data": {
      "text/plain": [
       "[1]"
      ]
     },
     "execution_count": 29,
     "metadata": {},
     "output_type": "execute_result"
    }
   ],
   "source": [
    "a"
   ]
  },
  {
   "cell_type": "code",
   "execution_count": 39,
   "metadata": {},
   "outputs": [
    {
     "ename": "TypeError",
     "evalue": "cannot convert dictionary update sequence element #0 to a sequence",
     "output_type": "error",
     "traceback": [
      "\u001b[0;31m---------------------------------------------------------------------------\u001b[0m",
      "\u001b[0;31mTypeError\u001b[0m                                 Traceback (most recent call last)",
      "\u001b[0;32m<ipython-input-39-d9a7c1612f2a>\u001b[0m in \u001b[0;36m<module>\u001b[0;34m()\u001b[0m\n\u001b[0;32m----> 1\u001b[0;31m \u001b[0mb\u001b[0m \u001b[0;34m=\u001b[0m \u001b[0mdict\u001b[0m\u001b[0;34m(\u001b[0m\u001b[0;34m[\u001b[0m\u001b[0;36m1\u001b[0m\u001b[0;34m,\u001b[0m\u001b[0;36m23\u001b[0m\u001b[0;34m,\u001b[0m\u001b[0;36m3\u001b[0m\u001b[0;34m]\u001b[0m\u001b[0;34m)\u001b[0m\u001b[0;34m\u001b[0m\u001b[0m\n\u001b[0m",
      "\u001b[0;31mTypeError\u001b[0m: cannot convert dictionary update sequence element #0 to a sequence"
     ]
    }
   ],
   "source": []
  },
  {
   "cell_type": "code",
   "execution_count": 31,
   "metadata": {},
   "outputs": [],
   "source": [
    "b = list(a)"
   ]
  },
  {
   "cell_type": "code",
   "execution_count": 32,
   "metadata": {},
   "outputs": [
    {
     "data": {
      "text/plain": [
       "[2, 3, 5]"
      ]
     },
     "execution_count": 32,
     "metadata": {},
     "output_type": "execute_result"
    }
   ],
   "source": [
    "b"
   ]
  },
  {
   "cell_type": "code",
   "execution_count": 33,
   "metadata": {},
   "outputs": [
    {
     "ename": "TypeError",
     "evalue": "list indices must be integers or slices, not NoneType",
     "output_type": "error",
     "traceback": [
      "\u001b[0;31m---------------------------------------------------------------------------\u001b[0m",
      "\u001b[0;31mTypeError\u001b[0m                                 Traceback (most recent call last)",
      "\u001b[0;32m<ipython-input-33-e3aa1bf2f24f>\u001b[0m in \u001b[0;36m<module>\u001b[0;34m()\u001b[0m\n\u001b[0;32m----> 1\u001b[0;31m \u001b[0mb\u001b[0m\u001b[0;34m[\u001b[0m\u001b[0;32mNone\u001b[0m\u001b[0;34m]\u001b[0m\u001b[0;34m\u001b[0m\u001b[0m\n\u001b[0m",
      "\u001b[0;31mTypeError\u001b[0m: list indices must be integers or slices, not NoneType"
     ]
    }
   ],
   "source": [
    "b[None]"
   ]
  },
  {
   "cell_type": "code",
   "execution_count": 14,
   "metadata": {},
   "outputs": [],
   "source": [
    "a = [1]\n",
    "b=[2]\n",
    "c=[a,b]"
   ]
  },
  {
   "cell_type": "code",
   "execution_count": 36,
   "metadata": {},
   "outputs": [],
   "source": [
    "import colorsys"
   ]
  },
  {
   "cell_type": "code",
   "execution_count": 256,
   "metadata": {},
   "outputs": [],
   "source": [
    "def i_spaced_nfold(i,n):\n",
    "    floorlog = max(np.floor(np.log2(2*(i-1)/n)),0)\n",
    "    d   = n*2**(floorlog)\n",
    "    if d == n:\n",
    "        h = i-1\n",
    "    else:\n",
    "        h = (2*i - d - 1)\n",
    "    v   = h/d\n",
    "    val = tuple(np.array(colorsys.hls_to_rgb(v, .5, .9)) * 255)"
   ]
  },
  {
   "cell_type": "code",
   "execution_count": 257,
   "metadata": {},
   "outputs": [
    {
     "name": "stdout",
     "output_type": "stream",
     "text": [
      "1 2\n",
      "floorlog 0 d 2 h 0 v 0.0 val (242.25, 12.750000000000011, 12.750000000000011)\n",
      "2 2\n",
      "floorlog 0.0 d 2.0 h 1 v 0.5 val (12.750000000000011, 242.24999999999994, 242.25)\n",
      "3 2\n",
      "floorlog 1.0 d 4.0 h 1.0 v 0.25 val (127.50000000000006, 242.25, 12.750000000000011)\n",
      "4 2\n",
      "floorlog 1.0 d 4.0 h 3.0 v 0.75 val (127.4999999999999, 12.750000000000011, 242.25)\n",
      "5 2\n",
      "floorlog 2.0 d 8.0 h 1.0 v 0.125 val (242.25, 184.875, 12.750000000000011)\n",
      "8 2\n",
      "floorlog 2.0 d 8.0 h 7.0 v 0.875 val (242.25, 12.750000000000011, 184.87499999999986)\n",
      "9 2\n",
      "floorlog 3.0 d 16.0 h 1.0 v 0.0625 val (242.25, 98.8125, 12.750000000000011)\n"
     ]
    },
    {
     "name": "stderr",
     "output_type": "stream",
     "text": [
      "/home/mfpleite/anaconda3/envs/pyecog_env/lib/python3.5/site-packages/ipykernel_launcher.py:3: RuntimeWarning: divide by zero encountered in log2\n",
      "  This is separate from the ipykernel package so we can avoid doing imports until\n"
     ]
    }
   ],
   "source": [
    "spaced(1,2)\n",
    "spaced(2,2)\n",
    "spaced(3,2)\n",
    "spaced(4,2)\n",
    "spaced(5,2)\n",
    "spaced(8,2)\n",
    "spaced(9,2)"
   ]
  },
  {
   "cell_type": "code",
   "execution_count": 258,
   "metadata": {},
   "outputs": [
    {
     "name": "stdout",
     "output_type": "stream",
     "text": [
      "1 3\n",
      "floorlog 0 d 3 h 0 v 0.0 val (242.25, 12.750000000000011, 12.750000000000011)\n",
      "2 3\n",
      "floorlog 0 d 3 h 1 v 0.3333333333333333 val (12.750000000000011, 242.25, 12.750000000000011)\n",
      "3 3\n",
      "floorlog 0.0 d 3.0 h 2 v 0.666666666667 val (12.750000000000011, 12.750000000000011, 242.25)\n",
      "4 3\n",
      "floorlog 1.0 d 6.0 h 1.0 v 0.166666666667 val (242.24999999999994, 242.25, 12.750000000000011)\n",
      "5 3\n",
      "floorlog 1.0 d 6.0 h 3.0 v 0.5 val (12.750000000000011, 242.24999999999994, 242.25)\n",
      "8 3\n",
      "floorlog 2.0 d 12.0 h 3.0 v 0.25 val (127.50000000000006, 242.25, 12.750000000000011)\n",
      "9 3\n",
      "floorlog 2.0 d 12.0 h 5.0 v 0.416666666667 val (12.750000000000011, 242.25, 127.50000000000006)\n"
     ]
    },
    {
     "name": "stderr",
     "output_type": "stream",
     "text": [
      "/home/mfpleite/anaconda3/envs/pyecog_env/lib/python3.5/site-packages/ipykernel_launcher.py:3: RuntimeWarning: divide by zero encountered in log2\n",
      "  This is separate from the ipykernel package so we can avoid doing imports until\n"
     ]
    }
   ],
   "source": [
    "spaced(1,3)\n",
    "spaced(2,3)\n",
    "spaced(3,3)\n",
    "spaced(4,3)\n",
    "spaced(5,3)\n",
    "spaced(8,3)\n",
    "spaced(9,3)"
   ]
  },
  {
   "cell_type": "code",
   "execution_count": 4,
   "metadata": {},
   "outputs": [],
   "source": [
    "a = [1,2,3]\n",
    "b = [2,a,5]\n",
    "c = b[1:]     "
   ]
  },
  {
   "cell_type": "code",
   "execution_count": 272,
   "metadata": {},
   "outputs": [],
   "source": [
    "class a():\n",
    "    def who(self):\n",
    "        print('i am a')\n",
    "    def testa(self):\n",
    "        print('testa')\n",
    "        \n",
    "class b:\n",
    "    def who(self):\n",
    "        print('i am b')\n",
    "    def testb(self):\n",
    "        print('testb')\n",
    "        \n",
    "class c(b,a):\n",
    "    def testc(self):\n",
    "        print('testc')"
   ]
  },
  {
   "cell_type": "code",
   "execution_count": 8,
   "metadata": {},
   "outputs": [
    {
     "data": {
      "text/plain": [
       "[[2, 2, 3], 5]"
      ]
     },
     "execution_count": 8,
     "metadata": {},
     "output_type": "execute_result"
    }
   ],
   "source": [
    "a[0] = 2\n",
    "c"
   ]
  },
  {
   "cell_type": "code",
   "execution_count": 275,
   "metadata": {},
   "outputs": [
    {
     "name": "stdout",
     "output_type": "stream",
     "text": [
      "i am b\n"
     ]
    }
   ],
   "source": [
    "citem.who()"
   ]
  },
  {
   "cell_type": "code",
   "execution_count": 9,
   "metadata": {},
   "outputs": [],
   "source": [
    "import time\n",
    "from datetime import datetime\n",
    "t =1575664594.3"
   ]
  },
  {
   "cell_type": "code",
   "execution_count": 10,
   "metadata": {},
   "outputs": [
    {
     "data": {
      "text/plain": [
       "'21:36:34'"
      ]
     },
     "execution_count": 10,
     "metadata": {},
     "output_type": "execute_result"
    }
   ],
   "source": [
    "time.strftime('%H:%M:%S',time.localtime(t))"
   ]
  },
  {
   "cell_type": "code",
   "execution_count": 14,
   "metadata": {},
   "outputs": [],
   "source": [
    "dtt = datetime.fromtimestamp(t)"
   ]
  },
  {
   "cell_type": "code",
   "execution_count": 18,
   "metadata": {},
   "outputs": [
    {
     "data": {
      "text/plain": [
       "'21:36:34.3000003'"
      ]
     },
     "execution_count": 18,
     "metadata": {},
     "output_type": "execute_result"
    }
   ],
   "source": [
    "datetime.strftime(dtt,'%H:%M:%S.%f')"
   ]
  },
  {
   "cell_type": "code",
   "execution_count": 1,
   "metadata": {},
   "outputs": [],
   "source": [
    "f =\"/home/mfpleite/Shared/ele_data/h5_119/M1569833359_2019-09-30-09-49-19_tids_[119].meta\""
   ]
  },
  {
   "cell_type": "code",
   "execution_count": 12,
   "metadata": {},
   "outputs": [
    {
     "data": {
      "text/plain": [
       "'/home/mfpleite/Shared/ele_data/h5_119/M1569833359_2019-09-30-09-49-19_tids_[119].features'"
      ]
     },
     "execution_count": 12,
     "metadata": {},
     "output_type": "execute_result"
    }
   ],
   "source": [
    "'.'.join(f.split('.')[:-1]+['features'])"
   ]
  },
  {
   "cell_type": "code",
   "execution_count": 16,
   "metadata": {},
   "outputs": [],
   "source": [
    "a = np.arange(1,100,.1)"
   ]
  },
  {
   "cell_type": "code",
   "execution_count": 15,
   "metadata": {},
   "outputs": [],
   "source": [
    "import numpy as np"
   ]
  },
  {
   "cell_type": "code",
   "execution_count": 17,
   "metadata": {},
   "outputs": [
    {
     "data": {
      "text/plain": [
       "99.900000000000091"
      ]
     },
     "execution_count": 17,
     "metadata": {},
     "output_type": "execute_result"
    }
   ],
   "source": [
    "a[-1]"
   ]
  },
  {
   "cell_type": "code",
   "execution_count": 18,
   "metadata": {},
   "outputs": [
    {
     "data": {
      "text/plain": [
       "4"
      ]
     },
     "execution_count": 18,
     "metadata": {},
     "output_type": "execute_result"
    }
   ],
   "source": [
    "np.max(np.array([[1,2],[3,4]]))"
   ]
  },
  {
   "cell_type": "code",
   "execution_count": 19,
   "metadata": {},
   "outputs": [],
   "source": [
    "a = [lambda d:np.sum(np.abs(np.diff(d)))]"
   ]
  },
  {
   "cell_type": "code",
   "execution_count": 22,
   "metadata": {},
   "outputs": [
    {
     "data": {
      "text/plain": [
       "3"
      ]
     },
     "execution_count": 22,
     "metadata": {},
     "output_type": "execute_result"
    }
   ],
   "source": [
    "a[0](np.array([[1,4]]))"
   ]
  },
  {
   "cell_type": "code",
   "execution_count": 23,
   "metadata": {},
   "outputs": [],
   "source": [
    "\n",
    "def rfft_band_power(fdata,fs,band):\n",
    "    return np.sum(np.abs(fdata[int(len(fdata)*band[0]/fs):int(len(fdata)*band[1]/fs)]))\n",
    "def powerf(band):\n",
    "    return lambda fdata,fs: rfft_band_power(fdata,fs,band)"
   ]
  },
  {
   "cell_type": "code",
   "execution_count": 25,
   "metadata": {},
   "outputs": [],
   "source": [
    "f = powerf((1,3))"
   ]
  },
  {
   "cell_type": "code",
   "execution_count": 27,
   "metadata": {},
   "outputs": [
    {
     "data": {
      "text/plain": [
       "0.0"
      ]
     },
     "execution_count": 27,
     "metadata": {},
     "output_type": "execute_result"
    }
   ],
   "source": [
    "f([0,1,2,3,4,5],.1)"
   ]
  },
  {
   "cell_type": "code",
   "execution_count": null,
   "metadata": {},
   "outputs": [],
   "source": []
  }
 ],
 "metadata": {
  "kernelspec": {
   "display_name": "pyecog_env",
   "language": "python",
   "name": "pyecog_env"
  },
  "language_info": {
   "codemirror_mode": {
    "name": "ipython",
    "version": 3
   },
   "file_extension": ".py",
   "mimetype": "text/x-python",
   "name": "python",
   "nbconvert_exporter": "python",
   "pygments_lexer": "ipython3",
   "version": "3.5.6"
  }
 },
 "nbformat": 4,
 "nbformat_minor": 4
}
